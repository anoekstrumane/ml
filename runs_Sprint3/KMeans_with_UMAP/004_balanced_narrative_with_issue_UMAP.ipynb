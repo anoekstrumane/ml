{
 "cells": [
  {
   "cell_type": "markdown",
   "metadata": {},
   "source": [
    "## Reading the data"
   ]
  },
  {
   "cell_type": "code",
   "execution_count": 1,
   "metadata": {},
   "outputs": [
    {
     "name": "stdout",
     "output_type": "stream",
     "text": [
      "        Row No Date received                  Product  \\\n",
      "446       6874      09/09/16              Payday loan   \n",
      "713      10840      08/07/15            Consumer Loan   \n",
      "803      12248      08/07/16            Consumer Loan   \n",
      "1153     17162      05/26/16            Consumer Loan   \n",
      "1185     17642      11/05/15            Consumer Loan   \n",
      "...        ...           ...                      ...   \n",
      "126588  222826      09/21/16  Bank account or service   \n",
      "126589  142174      03/05/16  Bank account or service   \n",
      "126590   55888      01/23/17  Bank account or service   \n",
      "126591  293505      09/27/16  Bank account or service   \n",
      "126592  327087      09/28/15  Bank account or service   \n",
      "\n",
      "                       Sub-product                                     Issue  \\\n",
      "446                           None  Charged fees or interest I didn't expect   \n",
      "713                   Vehicle loan       Problems when you are unable to pay   \n",
      "803                   Vehicle loan                Managing the loan or lease   \n",
      "1153                  Vehicle loan                Managing the loan or lease   \n",
      "1185                  Vehicle loan                Managing the loan or lease   \n",
      "...                            ...                                       ...   \n",
      "126588  Other bank product/service   Account opening, closing, or management   \n",
      "126589  Other bank product/service  Making/receiving payments, sending money   \n",
      "126590            Checking account   Account opening, closing, or management   \n",
      "126591            Checking account                  Deposits and withdrawals   \n",
      "126592  Other bank product/service   Account opening, closing, or management   \n",
      "\n",
      "       Sub-issue                       Consumer complaint narrative  \\\n",
      "446         None  i have complained to the manager and owner of ...   \n",
      "713         None  i recently had my car repossessed in after the...   \n",
      "803         None  i got a loan for a truck in even though i was ...   \n",
      "1153        None  i bought my vehicle and ever since the second ...   \n",
      "1185        None  i had an accident the car was totaled i contac...   \n",
      "...          ...                                                ...   \n",
      "126588      None  my employer offers a k as part of benefits whi...   \n",
      "126589      None  initiated wire transfer on on the bank of amer...   \n",
      "126590      None  wells fargo crooks back in i closed my wells f...   \n",
      "126591      None  i opened a business account with wells fargo i...   \n",
      "126592      None  i went to suntrust bank to order checks and th...   \n",
      "\n",
      "                                  Company public response  \\\n",
      "446     Company has responded to the consumer and the ...   \n",
      "713                                                  None   \n",
      "803     Company has responded to the consumer and the ...   \n",
      "1153                                                 None   \n",
      "1185                                                 None   \n",
      "...                                                   ...   \n",
      "126588  Company has responded to the consumer and the ...   \n",
      "126589  Company has responded to the consumer and the ...   \n",
      "126590  Company has responded to the consumer and the ...   \n",
      "126591  Company has responded to the consumer and the ...   \n",
      "126592   Company chooses not to provide a public response   \n",
      "\n",
      "                                      Company State ZIP code  Tags  \\\n",
      "446           Tower Loan of Mississippi, Inc.    AL     None  None   \n",
      "713      Santander Consumer USA Holdings Inc.    IL    606XX  None   \n",
      "803             CREDIT ACCEPTANCE CORPORATION    TN    381XX  None   \n",
      "1153     Santander Consumer USA Holdings Inc.    CA    917XX  None   \n",
      "1185     Santander Consumer USA Holdings Inc.    NC     None  None   \n",
      "...                                       ...   ...      ...   ...   \n",
      "126588                  WELLS FARGO & COMPANY    OH     None  None   \n",
      "126589  BANK OF AMERICA, NATIONAL ASSOCIATION    IL    600XX  None   \n",
      "126590                  WELLS FARGO & COMPANY    TX    781XX  None   \n",
      "126591                  WELLS FARGO & COMPANY    DC    200XX  None   \n",
      "126592                   SUNTRUST BANKS, INC.    DC    200XX  None   \n",
      "\n",
      "       Consumer consent provided? Submitted via Date sent to company  \\\n",
      "446              Consent provided           Web             09/14/16   \n",
      "713              Consent provided           Web             08/07/15   \n",
      "803              Consent provided           Web             08/07/16   \n",
      "1153             Consent provided           Web             05/26/16   \n",
      "1185             Consent provided           Web             11/05/15   \n",
      "...                           ...           ...                  ...   \n",
      "126588           Consent provided           Web             09/21/16   \n",
      "126589           Consent provided           Web             03/05/16   \n",
      "126590           Consent provided           Web             01/23/17   \n",
      "126591           Consent provided           Web             09/27/16   \n",
      "126592           Consent provided           Web             09/28/15   \n",
      "\n",
      "       Company response to consumer Timely response? Consumer disputed?  \\\n",
      "446         Closed with explanation              Yes                 No   \n",
      "713         Closed with explanation              Yes                Yes   \n",
      "803         Closed with explanation              Yes                Yes   \n",
      "1153        Closed with explanation              Yes                Yes   \n",
      "1185        Closed with explanation              Yes                 No   \n",
      "...                             ...              ...                ...   \n",
      "126588      Closed with explanation              Yes                 No   \n",
      "126589  Closed with monetary relief              Yes                 No   \n",
      "126590      Closed with explanation               No                 No   \n",
      "126591      Closed with explanation              Yes                 No   \n",
      "126592  Closed with monetary relief              Yes                 No   \n",
      "\n",
      "        Complaint ID  \n",
      "446          2102927  \n",
      "713          1507831  \n",
      "803          2049829  \n",
      "1153         1943017  \n",
      "1185         1642323  \n",
      "...              ...  \n",
      "126588       2123248  \n",
      "126589       1817484  \n",
      "126590       2303755  \n",
      "126591       2135094  \n",
      "126592       1583512  \n",
      "\n",
      "[58035 rows x 19 columns]\n",
      "(58035, 19)\n"
     ]
    }
   ],
   "source": [
    "import pandas as pd\n",
    "import numpy as np\n",
    "from gensim.models.doc2vec import Doc2Vec, TaggedDocument\n",
    "import matplotlib.pyplot as plt\n",
    "from sklearn.manifold import TSNE\n",
    "\n",
    "\n",
    "df = pd.read_csv(\"../../corpus_sprint3_balanced_cleaned_all.csv\", encoding=\"utf-8\")\n",
    "df = df.dropna()\n",
    "print(df)\n",
    "print(df.shape)\n",
    "\n",
    "model = Doc2Vec.load(\"../../model_doc2vec_balanced_20epochs\")"
   ]
  },
  {
   "cell_type": "code",
   "execution_count": 2,
   "metadata": {},
   "outputs": [],
   "source": [
    "df_concat = model.docvecs.vectors_docs"
   ]
  },
  {
   "cell_type": "markdown",
   "metadata": {},
   "source": [
    "## One hot encoding and concatenating"
   ]
  },
  {
   "cell_type": "code",
   "execution_count": 1,
   "metadata": {},
   "outputs": [
    {
     "ename": "NameError",
     "evalue": "name 'model' is not defined",
     "output_type": "error",
     "traceback": [
      "\u001b[1;31m---------------------------------------------------------------------------\u001b[0m",
      "\u001b[1;31mNameError\u001b[0m                                 Traceback (most recent call last)",
      "\u001b[1;32m<ipython-input-1-b54907c97830>\u001b[0m in \u001b[0;36m<module>\u001b[1;34m\u001b[0m\n\u001b[1;32m----> 1\u001b[1;33m \u001b[0mvectors\u001b[0m \u001b[1;33m=\u001b[0m \u001b[0mmodel\u001b[0m\u001b[1;33m.\u001b[0m\u001b[0mdocvecs\u001b[0m\u001b[1;33m.\u001b[0m\u001b[0mvectors_docs\u001b[0m\u001b[1;33m\u001b[0m\u001b[1;33m\u001b[0m\u001b[0m\n\u001b[0m",
      "\u001b[1;31mNameError\u001b[0m: name 'model' is not defined"
     ]
    }
   ],
   "source": [
    "vectors = model.docvecs.vectors_docs"
   ]
  },
  {
   "cell_type": "code",
   "execution_count": null,
   "metadata": {},
   "outputs": [],
   "source": [
    "one_hot = pd.Categorical(df['Issue'])\n",
    "df_dummies = pd.get_dummies(one_hot)\n",
    "\n",
    "v_df = pd.DataFrame(vectors)\n",
    "df_concat = pd.concat([v_df, df_dummies], axis = 1)\n",
    "print(df_concat.shape)"
   ]
  },
  {
   "cell_type": "markdown",
   "metadata": {},
   "source": [
    "## Applying UMAP"
   ]
  },
  {
   "cell_type": "code",
   "execution_count": null,
   "metadata": {},
   "outputs": [
    {
     "name": "stderr",
     "output_type": "stream",
     "text": [
      "C:\\Users\\l-Larsovic-l\\anaconda3\\lib\\site-packages\\umap\\spectral.py:4: NumbaDeprecationWarning: \u001b[1mNo direct replacement for 'numba.targets' available. Visit https://gitter.im/numba/numba-dev to request help. Thanks!\u001b[0m\n",
      "  import numba.targets\n"
     ]
    }
   ],
   "source": [
    "import umap\n",
    "data_reduced = umap.UMAP().fit_transform(df_concat)"
   ]
  },
  {
   "cell_type": "code",
   "execution_count": null,
   "metadata": {},
   "outputs": [],
   "source": [
    "print(data_reduced.shape)"
   ]
  },
  {
   "cell_type": "markdown",
   "metadata": {},
   "source": [
    "## Applying k-means"
   ]
  },
  {
   "cell_type": "code",
   "execution_count": null,
   "metadata": {},
   "outputs": [],
   "source": [
    "from sklearn.cluster import KMeans\n",
    "from sklearn import metrics"
   ]
  },
  {
   "cell_type": "code",
   "execution_count": null,
   "metadata": {},
   "outputs": [],
   "source": [
    "inertia = []\n",
    "k_min=1\n",
    "k_max=50\n",
    "for i in range(k_min, k_max):\n",
    "    print(i)\n",
    "    km = KMeans(n_clusters=i,init='k-means++')\n",
    "    km.fit(data_reduced)\n",
    "    inertia.append(km.inertia_)\n",
    "plt.rcParams['figure.figsize'] = [15,7]\n",
    "plt.plot(range(k_min,k_max), inertia,marker='o')\n",
    "plt.xlabel('Number of clusters')\n",
    "plt.ylabel('Cluster inertia')\n",
    "plt.show()"
   ]
  },
  {
   "cell_type": "markdown",
   "metadata": {},
   "source": [
    "## Silhouette scores"
   ]
  },
  {
   "cell_type": "code",
   "execution_count": null,
   "metadata": {},
   "outputs": [],
   "source": [
    "from sklearn.metrics import silhouette_samples, silhouette_score\n",
    "import matplotlib.cm as cm\n",
    "\n",
    "for n_clusters in range(4,35):\n",
    "    # Create a subplot with 1 row and 2 columns\n",
    "    fig, (ax1, ax2) = plt.subplots(1, 2)\n",
    "    fig.set_size_inches(18, 7)\n",
    "\n",
    "    # The 1st subplot is the silhouette plot\n",
    "    ax1.set_xlim([-0.1, 1])\n",
    "    # The (n_clusters+1)*10 is for inserting blank space between silhouette\n",
    "    # plots of individual clusters, to demarcate them clearly.\n",
    "    ax1.set_ylim([0, len(data_reduced) + (n_clusters + 1) * 10])\n",
    "\n",
    "    # Initialize the clusterer with n_clusters value and a random generator\n",
    "    # seed of 10 for reproducibility.\n",
    "    clusterer = KMeans(n_clusters=n_clusters, random_state=10)\n",
    "    cluster_labels = clusterer.fit_predict(data_reduced)\n",
    "\n",
    "    # The silhouette_score gives the average value for all the samples.\n",
    "    # This gives a perspective into the density and separation of the formed\n",
    "    # clusters\n",
    "    silhouette_avg = silhouette_score(data_reduced, cluster_labels)\n",
    "    print(\"For n_clusters =\", n_clusters,\n",
    "          \"The average silhouette_score is :\", silhouette_avg)\n",
    "\n",
    "    # Compute the silhouette scores for each sample\n",
    "    sample_silhouette_values = silhouette_samples(data_reduced, cluster_labels)\n",
    "\n",
    "    y_lower = 10\n",
    "    for i in range(n_clusters):\n",
    "        # Aggregate the silhouette scores for samples belonging to\n",
    "        # cluster i, and sort them\n",
    "        ith_cluster_silhouette_values = \\\n",
    "            sample_silhouette_values[cluster_labels == i]\n",
    "\n",
    "        ith_cluster_silhouette_values.sort()\n",
    "\n",
    "        size_cluster_i = ith_cluster_silhouette_values.shape[0]\n",
    "        y_upper = y_lower + size_cluster_i\n",
    "\n",
    "        color = cm.nipy_spectral(float(i) / n_clusters)\n",
    "        ax1.fill_betweenx(np.arange(y_lower, y_upper),\n",
    "                          0, ith_cluster_silhouette_values,\n",
    "                          facecolor=color, edgecolor=color, alpha=0.7)\n",
    "\n",
    "        # Label the silhouette plots with their cluster numbers at the middle\n",
    "        ax1.text(-0.05, y_lower + 0.5 * size_cluster_i, str(i))\n",
    "\n",
    "        # Compute the new y_lower for next plot\n",
    "        y_lower = y_upper + 10  # 10 for the 0 samples\n",
    "\n",
    "    ax1.set_title(\"The silhouette plot for the various clusters.\")\n",
    "    ax1.set_xlabel(\"The silhouette coefficient values\")\n",
    "    ax1.set_ylabel(\"Cluster label\")\n",
    "\n",
    "    # The vertical line for average silhouette score of all the values\n",
    "    ax1.axvline(x=silhouette_avg, color=\"red\", linestyle=\"--\")\n",
    "\n",
    "    ax1.set_yticks([])  # Clear the yaxis labels / ticks\n",
    "    ax1.set_xticks([-0.1, 0, 0.2, 0.4, 0.6, 0.8, 1])\n",
    "\n",
    "    # 2nd Plot showing the actual clusters formed\n",
    "    colors = cm.nipy_spectral(cluster_labels.astype(float) / n_clusters)\n",
    "    ax2.scatter(data_reduced[:, 0], data_reduced[:, 1], marker='.', s=30, lw=0, alpha=0.7,\n",
    "                c=colors, edgecolor='k')\n",
    "\n",
    "    # Labeling the clusters\n",
    "    centers = clusterer.cluster_centers_\n",
    "    # Draw white circles at cluster centers\n",
    "    ax2.scatter(centers[:, 0], centers[:, 1], marker='o',\n",
    "                c=\"white\", alpha=1, s=200, edgecolor='k')\n",
    "\n",
    "    for i, c in enumerate(centers):\n",
    "        ax2.scatter(c[0], c[1], marker='$%d$' % i, alpha=1,\n",
    "                    s=50, edgecolor='k')\n",
    "\n",
    "    ax2.set_title(\"The visualization of the clustered data.\")\n",
    "    ax2.set_xlabel(\"Feature space for the 1st feature\")\n",
    "    ax2.set_ylabel(\"Feature space for the 2nd feature\")\n",
    "\n",
    "    plt.suptitle((\"Silhouette analysis for KMeans clustering on sample data \"\n",
    "                  \"with n_clusters = %d\" % n_clusters),\n",
    "                 fontsize=14, fontweight='bold')\n",
    "\n",
    "plt.show()"
   ]
  },
  {
   "cell_type": "markdown",
   "metadata": {},
   "source": [
    "## Analyzing with narrative"
   ]
  },
  {
   "cell_type": "code",
   "execution_count": null,
   "metadata": {},
   "outputs": [],
   "source": [
    "number_clusters = 16\n",
    "km = KMeans(n_clusters=number_clusters,init='k-means++')\n",
    "indexes = km.fit_predict(data_reduced)\n",
    "centroids = km.cluster_centers_\n",
    "\n",
    "df_index = pd.DataFrame(indexes)\n",
    "\n",
    "indici = []\n",
    "for i in range(0,len(indexes)):\n",
    "    indici.append(i)\n",
    "df1 = df_index.set_index(pd.Index(indici))\n",
    "df2 = df.set_index(pd.Index(indici))\n",
    "df_result = pd.concat([df1,df2], axis = 1)\n",
    "print(df_result)"
   ]
  },
  {
   "cell_type": "code",
   "execution_count": null,
   "metadata": {
    "scrolled": false
   },
   "outputs": [],
   "source": [
    "from wordcloud import WordCloud\n",
    "import nltk\n",
    "from nltk.corpus import stopwords\n",
    "import random\n",
    "\n",
    "#if it's your first time running with these stopwords, run the following line aswell:\n",
    "#nltk.download('stopwords')\n",
    "\n",
    "stopwords = set(stopwords.words('english'))\n",
    "stopwords.add('xx')\n",
    "stopwords.add('wa')\n",
    "\n",
    "for i in range(0,number_clusters):\n",
    "    all_words = ''\n",
    "    print('Cluster number: '+str(i))\n",
    "    amount = 0\n",
    "    for index, row in df_result.iterrows():\n",
    "        if row[0] == i:\n",
    "            all_words += ' ' + row['Consumer complaint narrative']\n",
    "            rand = random.randint(1,200)\n",
    "            amount += 1\n",
    "            if(rand == 1):\n",
    "                print(row['Consumer complaint narrative'] + '\\n')\n",
    "    wordcloud = WordCloud(width = 800, height = 800, \n",
    "                background_color ='white', \n",
    "                stopwords = stopwords, \n",
    "                min_font_size = 10).generate(all_words) \n",
    "    print('Number of entries: ' + str(amount))\n",
    "    plt.figure(figsize = (8, 8), facecolor = None) \n",
    "    plt.imshow(wordcloud) \n",
    "    plt.axis(\"off\") \n",
    "    plt.tight_layout(pad = 0) \n",
    "    plt.show() \n"
   ]
  },
  {
   "cell_type": "markdown",
   "metadata": {},
   "source": [
    "## Visualizing clusters"
   ]
  },
  {
   "cell_type": "code",
   "execution_count": null,
   "metadata": {
    "scrolled": true
   },
   "outputs": [],
   "source": [
    "import seaborn as sns\n",
    "_labels = pd.DataFrame(indexes)\n",
    "labels = _labels.rename(columns={0: 'label'}) \n",
    "\n",
    "_reduced = pd.DataFrame(data_reduced)\n",
    "reduced = _reduced.rename(columns={0: 'x', 1: 'y'}) \n",
    "\n",
    "clusters = pd.concat([reduced, labels], axis = 1)\n",
    "\n",
    "\n",
    "facet = sns.lmplot(data=clusters, x='x', y='y', hue='label', \n",
    "                   fit_reg=False, legend=True, legend_out=True)\n"
   ]
  }
 ],
 "metadata": {
  "kernelspec": {
   "display_name": "Python 3",
   "language": "python",
   "name": "python3"
  },
  "language_info": {
   "codemirror_mode": {
    "name": "ipython",
    "version": 3
   },
   "file_extension": ".py",
   "mimetype": "text/x-python",
   "name": "python",
   "nbconvert_exporter": "python",
   "pygments_lexer": "ipython3",
   "version": "3.7.7"
  },
  "toc": {
   "base_numbering": 1,
   "nav_menu": {},
   "number_sections": true,
   "sideBar": true,
   "skip_h1_title": false,
   "title_cell": "Table of Contents",
   "title_sidebar": "Contents",
   "toc_cell": false,
   "toc_position": {},
   "toc_section_display": true,
   "toc_window_display": false
  }
 },
 "nbformat": 4,
 "nbformat_minor": 2
}
