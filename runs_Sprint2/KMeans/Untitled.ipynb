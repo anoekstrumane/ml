{
 "cells": [
  {
   "cell_type": "code",
   "execution_count": 1,
   "metadata": {},
   "outputs": [],
   "source": [
    "import pandas as pd\n",
    "import numpy as np\n",
    "from gensim.models.doc2vec import Doc2Vec, TaggedDocument\n",
    "import matplotlib.pyplot as plt\n",
    "\n",
    "df_bal = pd.read_csv(\"../../corpus_sprint2_balanced_cp.csv\", encoding=\"utf-8\")\n",
    "df = df_bal[\"Consumer complaint narrative\"]\n",
    "df = df.dropna()\n",
    "\n",
    "model = Doc2Vec.load(\"../../model_doc2vec_balanced_20epochs\")"
   ]
  },
  {
   "cell_type": "code",
   "execution_count": 2,
   "metadata": {},
   "outputs": [
    {
     "name": "stdout",
     "output_type": "stream",
     "text": [
      "[[-0.02092724 -0.1787254  -0.02488375 ... -0.12681942  0.11478117\n",
      "   0.1283714 ]\n",
      " [-0.2789287  -0.06197561  0.26315284 ...  0.05139109  0.15418749\n",
      "  -0.1269095 ]\n",
      " [-0.23172821  0.01604747  0.38824126 ...  0.00333929  0.0273787\n",
      "  -0.24061987]\n",
      " ...\n",
      " [ 0.13044342 -0.1385314   0.2794611  ...  0.16683841  0.02816469\n",
      "   0.08737946]\n",
      " [-0.43434408 -0.09784658  0.31782246 ... -0.01924675  0.320871\n",
      "  -0.04654588]\n",
      " [-0.15576039 -0.20247552  0.03559433 ... -0.03181177  0.16479182\n",
      "   0.05527947]]\n"
     ]
    },
    {
     "name": "stderr",
     "output_type": "stream",
     "text": [
      "C:\\Users\\strum\\Anaconda3\\lib\\site-packages\\ipykernel_launcher.py:1: DeprecationWarning: Call to deprecated `doctag_syn0` (Attribute will be removed in 4.0.0, use docvecs.vectors_docs instead).\n",
      "  \"\"\"Entry point for launching an IPython kernel.\n"
     ]
    }
   ],
   "source": [
    "vectors = model.docvecs.doctag_syn0"
   ]
  },
  {
   "cell_type": "code",
   "execution_count": 3,
   "metadata": {},
   "outputs": [],
   "source": [
    "from sklearn.cluster import KMeans\n",
    "from sklearn import metrics"
   ]
  },
  {
   "cell_type": "code",
   "execution_count": 6,
   "metadata": {
    "scrolled": false
   },
   "outputs": [
    {
     "name": "stdout",
     "output_type": "stream",
     "text": [
      "4\n",
      "5\n",
      "6\n",
      "7\n",
      "8\n",
      "9\n",
      "10\n",
      "11\n",
      "12\n",
      "13\n",
      "14\n"
     ]
    },
    {
     "data": {
      "image/png": "[encoded data removed]",
      "text/plain": [
       "<Figure size 432x288 with 1 Axes>"
      ]
     },
     "metadata": {
      "needs_background": "light"
     },
     "output_type": "display_data"
    },
    {
     "data": {
      "text/plain": [
       "'kmeans = KMeans(n_clusters=max_k)\\nkmeans.fit(vectors) \\n\\nlabels = kmeans.labels_\\ncentroids = kmeans.cluster_centers_\\nprint (\"Cluster id labels for inputted data\")\\nprint (labels)\\nprint (\"Centroids data\")\\nprint (centroids)\\n \\nprint (\"Score (Opposite of the value of X on the K-means objective which is Sum of distances of samples to their closest cluster center):\")\\nprint (kmeans.score(vectors))\\n \\nsilhouette_score = metrics.silhouette_score(vectors, labels, metric=\\'euclidean\\')\\n \\nprint (\"Silhouette_score: \")\\nprint (silhouette_score)'"
      ]
     },
     "execution_count": 6,
     "metadata": {},
     "output_type": "execute_result"
    }
   ],
   "source": [
    "inertia = []\n",
    "k_min=4\n",
    "k_max=15\n",
    "for i in range(k_min, k_max):\n",
    "    print(i)\n",
    "    kmeans = KMeans(n_clusters=i)\n",
    "    kmeans.fit(vectors)\n",
    "    \n",
    "    labels = kmeans.labels_\n",
    "    centroids = kmeans.cluster_centers_\n",
    "    inertia.append(kmeans.inertia_)\n",
    "\n",
    "plt.plot(range(k_min,k_max), inertia,marker='o')\n",
    "plt.xlabel('Number of clusters')\n",
    "plt.ylabel('Cluster inertia')\n",
    "plt.show()\n",
    "\n",
    "\"\"\"kmeans = KMeans(n_clusters=max_k)\n",
    "kmeans.fit(vectors) \n",
    "\n",
    "labels = kmeans.labels_\n",
    "centroids = kmeans.cluster_centers_\n",
    "print (\"Cluster id labels for inputted data\")\n",
    "print (labels)\n",
    "print (\"Centroids data\")\n",
    "print (centroids)\n",
    " \n",
    "print (\"Score (Opposite of the value of X on the K-means objective which is Sum of distances of samples to their closest cluster center):\")\n",
    "print (kmeans.score(vectors))\n",
    " \n",
    "silhouette_score = metrics.silhouette_score(vectors, labels, metric='euclidean')\n",
    " \n",
    "print (\"Silhouette_score: \")\n",
    "print (silhouette_score)\"\"\""
   ]
  },
  {
   "cell_type": "code",
   "execution_count": null,
   "metadata": {},
   "outputs": [],
   "source": [
    "## Assign the labels\n",
    "df[\"clust\"] = labels\n",
    "df_clustered = pd.concat([df, pd.DataFrame(labels, columns=[\"clust\"])], axis = 1)"
   ]
  },
  {
   "cell_type": "code",
   "execution_count": null,
   "metadata": {},
   "outputs": [],
   "source": [
    "print(df)\n",
    "# Check count of news articles in each cluster\n",
    "#sums = df_clustered.groupby(\"clust\")[\"clust\"].count()\n",
    "#print(sums)\n",
    "\n",
    "#plot = df.plot.pie(y=\"Consumer complaint narrative\", figsize=(10, 10))\n",
    "\n",
    "\n",
    "#df_clustered.groupby(\"clust\")[\"clust\"].count().plot(kind = \"pie\", autopct='%.2f', figsize = (10, 10))"
   ]
  }
 ],
 "metadata": {
  "kernelspec": {
   "display_name": "Python 3",
   "language": "python",
   "name": "python3"
  },
  "language_info": {
   "codemirror_mode": {
    "name": "ipython",
    "version": 3
   },
   "file_extension": ".py",
   "mimetype": "text/x-python",
   "name": "python",
   "nbconvert_exporter": "python",
   "pygments_lexer": "ipython3",
   "version": "3.7.4"
  },
  "toc": {
   "base_numbering": 1,
   "nav_menu": {},
   "number_sections": true,
   "sideBar": true,
   "skip_h1_title": false,
   "title_cell": "Table of Contents",
   "title_sidebar": "Contents",
   "toc_cell": false,
   "toc_position": {},
   "toc_section_display": true,
   "toc_window_display": false
  }
 },
 "nbformat": 4,
 "nbformat_minor": 2
}
