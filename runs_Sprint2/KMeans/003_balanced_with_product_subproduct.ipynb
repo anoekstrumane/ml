{
 "cells": [
  {
   "cell_type": "markdown",
   "metadata": {},
   "source": [
    "## Reading the data"
   ]
  },
  {
   "cell_type": "code",
   "execution_count": 16,
   "metadata": {},
   "outputs": [],
   "source": [
    "import pandas as pd\n",
    "import numpy as np\n",
    "from gensim.models.doc2vec import Doc2Vec, TaggedDocument\n",
    "import matplotlib.pyplot as plt\n",
    "\n",
    "df = pd.read_csv(\"../../corpus_sprint2_balanced_cps.csv\", encoding=\"utf-8\")\n",
    "df = df.dropna()\n",
    "\n",
    "model = Doc2Vec.load(\"../../model_doc2vec_balanced_20epochs\")"
   ]
  },
  {
   "cell_type": "markdown",
   "metadata": {},
   "source": [
    "## One hot encoding and concatenating"
   ]
  },
  {
   "cell_type": "code",
   "execution_count": 17,
   "metadata": {},
   "outputs": [],
   "source": [
    "vectors = model.docvecs.vectors_docs"
   ]
  },
  {
   "cell_type": "code",
   "execution_count": 18,
   "metadata": {},
   "outputs": [
    {
     "name": "stdout",
     "output_type": "stream",
     "text": [
      "               0         1         2         3         4         5         6  \\\n",
      "0      -0.206502 -0.089569 -0.479192 -0.607455  0.441230 -0.835218  0.229955   \n",
      "1      -0.199045  0.245777 -0.058751 -0.922997  0.417415 -0.339759 -0.466736   \n",
      "2      -0.117612 -0.230441  0.104659 -0.059141  0.244450 -0.532243 -0.273285   \n",
      "3      -0.056852 -0.428939 -0.503455  0.431379 -0.107010 -0.341381 -1.130548   \n",
      "4      -0.144027 -0.137468 -0.196015 -0.340400  0.788206 -0.180849 -0.526431   \n",
      "...          ...       ...       ...       ...       ...       ...       ...   \n",
      "111629  0.475766  0.044374 -0.918518 -0.464938  0.257347 -0.190196 -0.419938   \n",
      "111630 -0.492041 -0.346752 -0.051855  0.526952  0.830449 -0.631116 -0.493316   \n",
      "111631  0.082189  0.002191  0.222593  0.533906  0.391737  0.046392 -0.482322   \n",
      "111632  0.238248 -0.162442  0.073858  0.188567  0.301132 -0.020022 -0.073487   \n",
      "111633 -0.241412 -0.182984 -0.777466  0.257785  0.239757 -0.851278 -0.222554   \n",
      "\n",
      "               7         8         9  ...  Refund anticipation check  \\\n",
      "0       0.033730 -0.195595 -0.029248  ...                          0   \n",
      "1      -0.029393 -0.175591  0.219608  ...                          0   \n",
      "2      -0.009415 -0.230296 -0.170516  ...                          0   \n",
      "3      -0.271844 -0.788258  0.475774  ...                          0   \n",
      "4       0.171795 -0.226742  0.213695  ...                          0   \n",
      "...          ...       ...       ...  ...                        ...   \n",
      "111629  0.015901 -0.001220  0.441931  ...                          0   \n",
      "111630 -0.092520  0.051200  0.027536  ...                          0   \n",
      "111631 -0.425899 -0.357975  0.518033  ...                          0   \n",
      "111632 -0.243090  0.303880  0.608521  ...                          0   \n",
      "111633 -0.811393 -0.089212 -0.162427  ...                          0   \n",
      "\n",
      "        Reverse mortgage  Savings account  Store credit card  Title loan  \\\n",
      "0                      0                0                  0           0   \n",
      "1                      0                0                  0           0   \n",
      "2                      0                0                  0           0   \n",
      "3                      0                0                  0           0   \n",
      "4                      0                0                  0           0   \n",
      "...                  ...              ...                ...         ...   \n",
      "111629                 0                0                  0           0   \n",
      "111630                 0                1                  0           0   \n",
      "111631                 0                0                  0           0   \n",
      "111632                 0                0                  0           0   \n",
      "111633                 0                0                  0           0   \n",
      "\n",
      "        Traveler's check or cashier's check  VA mortgage  Vehicle lease  \\\n",
      "0                                         0            0              0   \n",
      "1                                         0            0              0   \n",
      "2                                         0            0              0   \n",
      "3                                         0            0              0   \n",
      "4                                         0            0              0   \n",
      "...                                     ...          ...            ...   \n",
      "111629                                    0            0              0   \n",
      "111630                                    0            0              0   \n",
      "111631                                    0            0              0   \n",
      "111632                                    0            0              0   \n",
      "111633                                    0            0              0   \n",
      "\n",
      "        Vehicle loan  Virtual currency  \n",
      "0                  0                 0  \n",
      "1                  0                 0  \n",
      "2                  0                 0  \n",
      "3                  0                 0  \n",
      "4                  0                 0  \n",
      "...              ...               ...  \n",
      "111629             0                 0  \n",
      "111630             0                 0  \n",
      "111631             0                 0  \n",
      "111632             0                 0  \n",
      "111633             0                 0  \n",
      "\n",
      "[111634 rows x 127 columns]\n"
     ]
    }
   ],
   "source": [
    "#print(df)\n",
    "one_hot = pd.Categorical(df['Product'])\n",
    "df_dummies = pd.get_dummies(one_hot)\n",
    "\n",
    "one_hot2 = pd.Categorical(df['Sub-product'])\n",
    "df_dummies2 = pd.get_dummies(one_hot2)\n",
    "\n",
    "v_df = pd.DataFrame(vectors)\n",
    "df_concat = pd.concat([v_df, df_dummies, df_dummies2], axis = 1)\n",
    "print(df_concat)"
   ]
  },
  {
   "cell_type": "markdown",
   "metadata": {},
   "source": [
    "## Applying k-means"
   ]
  },
  {
   "cell_type": "code",
   "execution_count": 19,
   "metadata": {},
   "outputs": [],
   "source": [
    "from sklearn.cluster import KMeans\n",
    "from sklearn import metrics"
   ]
  },
  {
   "cell_type": "markdown",
   "metadata": {},
   "source": [
    "### Visual with elbow"
   ]
  },
  {
   "cell_type": "code",
   "execution_count": 20,
   "metadata": {},
   "outputs": [
    {
     "name": "stdout",
     "output_type": "stream",
     "text": [
      "1\n",
      "2\n",
      "3\n",
      "4\n",
      "5\n",
      "6\n",
      "7\n",
      "8\n",
      "9\n",
      "10\n",
      "11\n",
      "12\n",
      "13\n",
      "14\n",
      "15\n",
      "16\n",
      "17\n",
      "18\n",
      "19\n",
      "20\n",
      "21\n",
      "22\n",
      "23\n",
      "24\n"
     ]
    },
    {
     "data": {
      "image/png": "[encoded data removed]",
      "text/plain": [
       "<Figure size 432x288 with 1 Axes>"
      ]
     },
     "metadata": {
      "needs_background": "light"
     },
     "output_type": "display_data"
    }
   ],
   "source": [
    "inertia = []\n",
    "k_min=1\n",
    "k_max=25\n",
    "for i in range(k_min, k_max):\n",
    "    print(i)\n",
    "    km = KMeans(n_clusters=i,init='k-means++')\n",
    "    km.fit(df_concat)\n",
    "    inertia.append(km.inertia_)\n",
    "\n",
    "plt.plot(range(k_min,k_max), inertia,marker='o')\n",
    "plt.xlabel('Number of clusters')\n",
    "plt.ylabel('Cluster inertia')\n",
    "plt.show()"
   ]
  },
  {
   "cell_type": "markdown",
   "metadata": {},
   "source": [
    "### Automatic with silhouette"
   ]
  },
  {
   "cell_type": "code",
   "execution_count": 15,
   "metadata": {
    "scrolled": false
   },
   "outputs": [
    {
     "name": "stdout",
     "output_type": "stream",
     "text": [
      "Cluster id labels for inputted data\n",
      "[10 10  9 ...  2  2  2]\n",
      "Centroids data\n",
      "[[-9.41108465e-02 -6.63759485e-02  4.05852497e-03 ...  1.01494633e-01\n",
      "   5.42341232e-01  3.22237611e-07]\n",
      " [ 8.74562338e-02 -1.26733795e-01  6.56391978e-02 ... -3.42726707e-07\n",
      "   1.12131238e-06 -3.25031579e-07]\n",
      " [-8.47055763e-02 -1.90559983e-01 -1.50422245e-01 ... -2.15228647e-06\n",
      "  -9.95770097e-06  3.36393714e-06]\n",
      " ...\n",
      " [ 1.36877149e-02 -2.29628161e-01  1.06096394e-01 ...  4.47034836e-08\n",
      "   1.08405948e-06 -3.17580998e-07]\n",
      " [-9.47597623e-02 -1.66136533e-01 -1.96348518e-01 ... -7.62753189e-07\n",
      "   1.13993883e-06  2.78465450e-07]\n",
      " [ 8.76927152e-02 -3.11491728e-01 -5.41926622e-02 ... -6.62170351e-07\n",
      "   1.13621354e-06  4.37721610e-08]]\n",
      "Score (Opposite of the value of X on the K-means objective which is Sum of distances of samples to their closest cluster center):\n",
      "-644177.7\n"
     ]
    }
   ],
   "source": [
    "from sklearn.metrics import silhouette_samples, silhouette_score\n",
    "import matplotlib.cm as cm\n",
    "range_n_clusters = [2, 3, 4]\n",
    "\n",
    "for n_clusters in range_n_clusters:\n",
    "    # Create a subplot with 1 row and 2 columns\n",
    "    fig, (ax1, ax2) = plt.subplots(1, 2)\n",
    "    fig.set_size_inches(18, 7)\n",
    "\n",
    "    # The 1st subplot is the silhouette plot\n",
    "    # The silhouette coefficient can range from -1, 1 but in this example all\n",
    "    # lie within [-0.1, 1]\n",
    "    ax1.set_xlim([-0.1, 1])\n",
    "    # The (n_clusters+1)*10 is for inserting blank space between silhouette\n",
    "    # plots of individual clusters, to demarcate them clearly.\n",
    "    ax1.set_ylim([0, len(vectors) + (n_clusters + 1) * 10])\n",
    "\n",
    "    # Initialize the clusterer with n_clusters value and a random generator\n",
    "    # seed of 10 for reproducibility.\n",
    "    clusterer = KMeans(n_clusters=n_clusters, random_state=10)\n",
    "    cluster_labels = clusterer.fit_predict(vectors)\n",
    "\n",
    "    # The silhouette_score gives the average value for all the samples.\n",
    "    # This gives a perspective into the density and separation of the formed\n",
    "    # clusters\n",
    "    silhouette_avg = silhouette_score(vectors, cluster_labels)\n",
    "    print(\"For n_clusters =\", n_clusters,\n",
    "          \"The average silhouette_score is :\", silhouette_avg)\n",
    "\n",
    "    # Compute the silhouette scores for each sample\n",
    "    sample_silhouette_values = silhouette_samples(vectors, cluster_labels)\n",
    "\n",
    "    y_lower = 10\n",
    "    for i in range(n_clusters):\n",
    "        # Aggregate the silhouette scores for samples belonging to\n",
    "        # cluster i, and sort them\n",
    "        ith_cluster_silhouette_values = \\\n",
    "            sample_silhouette_values[cluster_labels == i]\n",
    "\n",
    "        ith_cluster_silhouette_values.sort()\n",
    "\n",
    "        size_cluster_i = ith_cluster_silhouette_values.shape[0]\n",
    "        y_upper = y_lower + size_cluster_i\n",
    "\n",
    "        color = cm.nipy_spectral(float(i) / n_clusters)\n",
    "        ax1.fill_betweenx(np.arange(y_lower, y_upper),\n",
    "                          0, ith_cluster_silhouette_values,\n",
    "                          facecolor=color, edgecolor=color, alpha=0.7)\n",
    "\n",
    "        # Label the silhouette plots with their cluster numbers at the middle\n",
    "        ax1.text(-0.05, y_lower + 0.5 * size_cluster_i, str(i))\n",
    "\n",
    "        # Compute the new y_lower for next plot\n",
    "        y_lower = y_upper + 10  # 10 for the 0 samples\n",
    "\n",
    "    ax1.set_title(\"The silhouette plot for the various clusters.\")\n",
    "    ax1.set_xlabel(\"The silhouette coefficient values\")\n",
    "    ax1.set_ylabel(\"Cluster label\")\n",
    "\n",
    "    # The vertical line for average silhouette score of all the values\n",
    "    ax1.axvline(x=silhouette_avg, color=\"red\", linestyle=\"--\")\n",
    "\n",
    "    ax1.set_yticks([])  # Clear the yaxis labels / ticks\n",
    "    ax1.set_xticks([-0.1, 0, 0.2, 0.4, 0.6, 0.8, 1])\n",
    "\n",
    "    # 2nd Plot showing the actual clusters formed\n",
    "    colors = cm.nipy_spectral(cluster_labels.astype(float) / n_clusters)\n",
    "    ax2.scatter(vectors[:, 0], vectors[:, 1], marker='.', s=30, lw=0, alpha=0.7,\n",
    "                c=colors, edgecolor='k')\n",
    "\n",
    "    # Labeling the clusters\n",
    "    centers = clusterer.cluster_centers_\n",
    "    # Draw white circles at cluster centers\n",
    "    ax2.scatter(centers[:, 0], centers[:, 1], marker='o',\n",
    "                c=\"white\", alpha=1, s=200, edgecolor='k')\n",
    "\n",
    "    for i, c in enumerate(centers):\n",
    "        ax2.scatter(c[0], c[1], marker='$%d$' % i, alpha=1,\n",
    "                    s=50, edgecolor='k')\n",
    "\n",
    "    ax2.set_title(\"The visualization of the clustered data.\")\n",
    "    ax2.set_xlabel(\"Feature space for the 1st feature\")\n",
    "    ax2.set_ylabel(\"Feature space for the 2nd feature\")\n",
    "\n",
    "    plt.suptitle((\"Silhouette analysis for KMeans clustering on sample data \"\n",
    "                  \"with n_clusters = %d\" % n_clusters),\n",
    "                 fontsize=14, fontweight='bold')\n",
    "\n",
    "plt.show()"
   ]
  },
  {
   "cell_type": "code",
   "execution_count": null,
   "metadata": {},
   "outputs": [],
   "source": []
  }
 ],
 "metadata": {
  "kernelspec": {
   "display_name": "Python 3",
   "language": "python",
   "name": "python3"
  },
  "language_info": {
   "codemirror_mode": {
    "name": "ipython",
    "version": 3
   },
   "file_extension": ".py",
   "mimetype": "text/x-python",
   "name": "python",
   "nbconvert_exporter": "python",
   "pygments_lexer": "ipython3",
   "version": "3.7.6"
  },
  "toc": {
   "base_numbering": 1,
   "nav_menu": {},
   "number_sections": true,
   "sideBar": true,
   "skip_h1_title": false,
   "title_cell": "Table of Contents",
   "title_sidebar": "Contents",
   "toc_cell": false,
   "toc_position": {},
   "toc_section_display": true,
   "toc_window_display": false
  }
 },
 "nbformat": 4,
 "nbformat_minor": 2
}
