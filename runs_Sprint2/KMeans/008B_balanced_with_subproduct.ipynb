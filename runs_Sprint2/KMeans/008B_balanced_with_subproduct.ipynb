{
 "cells": [
  {
   "cell_type": "markdown",
   "metadata": {},
   "source": [
    "## Reading the data"
   ]
  },
  {
   "cell_type": "code",
   "execution_count": 1,
   "metadata": {},
   "outputs": [],
   "source": [
    "import pandas as pd\n",
    "import numpy as np\n",
    "from gensim.models.doc2vec import Doc2Vec, TaggedDocument\n",
    "import matplotlib.pyplot as plt\n",
    "\n",
    "df = pd.read_csv(\"../../corpus_sprint2_balanced_cps.csv\", encoding=\"utf-8\")\n",
    "df = df.dropna()\n",
    "\n",
    "model = Doc2Vec.load(\"../../model_doc2vec_balanced_20epochs\")"
   ]
  },
  {
   "cell_type": "markdown",
   "metadata": {},
   "source": [
    "## One hot encoding and concatenating"
   ]
  },
  {
   "cell_type": "code",
   "execution_count": 2,
   "metadata": {},
   "outputs": [],
   "source": [
    "vectors = model.docvecs.vectors_docs"
   ]
  },
  {
   "cell_type": "code",
   "execution_count": 3,
   "metadata": {},
   "outputs": [
    {
     "name": "stdout",
     "output_type": "stream",
     "text": [
      "               0         1         2         3         4         5         6  \\\n",
      "0      -0.188312  0.235858 -0.160661 -0.062930  0.088282  0.184802  0.369231   \n",
      "1      -0.069450  0.123566 -0.331953  0.132706  0.416698 -0.337001  0.119607   \n",
      "2      -0.145901  0.255647  0.014258 -0.009380  0.239211 -0.127895  0.123045   \n",
      "3      -0.074536  0.037086 -0.051584 -0.062005  0.204723 -0.108399  0.280387   \n",
      "4       0.306871 -0.032056 -0.098984 -0.138455  0.197950 -0.033127 -0.198101   \n",
      "...          ...       ...       ...       ...       ...       ...       ...   \n",
      "111629 -0.131735  0.009762  0.033046 -0.530487 -0.132169  0.258420 -0.012071   \n",
      "111630 -0.016358  0.296047  0.117149 -0.307706 -0.198284 -0.304725 -0.305938   \n",
      "111631 -0.062303  0.288477  0.159682 -0.103658 -0.100076  0.008712 -0.103005   \n",
      "111632 -0.288595  0.146657 -0.130089  0.103363 -0.111763  0.095894 -0.089777   \n",
      "111633  0.192410  0.238593 -0.077316  0.058626  0.091606 -0.226398 -0.055350   \n",
      "\n",
      "               7         8         9  ...  Refund anticipation check  \\\n",
      "0      -0.142733 -0.156262  0.117743  ...                          0   \n",
      "1       0.362136  0.066799 -0.235784  ...                          0   \n",
      "2      -0.053215 -0.479566 -0.095277  ...                          0   \n",
      "3      -0.018035  0.095041 -0.117392  ...                          0   \n",
      "4      -0.019632 -0.008732  0.074811  ...                          0   \n",
      "...          ...       ...       ...  ...                        ...   \n",
      "111629  0.092045 -0.220419  0.317760  ...                          0   \n",
      "111630 -0.184995  0.109105  0.044226  ...                          0   \n",
      "111631 -0.250125 -0.297901 -0.026790  ...                          0   \n",
      "111632 -0.224396 -0.048519 -0.174968  ...                          0   \n",
      "111633 -0.258702 -0.267105 -0.201890  ...                          0   \n",
      "\n",
      "        Reverse mortgage  Savings account  Store credit card  Title loan  \\\n",
      "0                      0                0                  0           0   \n",
      "1                      0                0                  0           0   \n",
      "2                      0                0                  0           0   \n",
      "3                      0                0                  0           0   \n",
      "4                      0                0                  0           0   \n",
      "...                  ...              ...                ...         ...   \n",
      "111629                 0                0                  0           0   \n",
      "111630                 0                1                  0           0   \n",
      "111631                 0                0                  0           0   \n",
      "111632                 0                0                  0           0   \n",
      "111633                 0                0                  0           0   \n",
      "\n",
      "        Traveler's check or cashier's check  VA mortgage  Vehicle lease  \\\n",
      "0                                         0            0              0   \n",
      "1                                         0            0              0   \n",
      "2                                         0            0              0   \n",
      "3                                         0            0              0   \n",
      "4                                         0            0              0   \n",
      "...                                     ...          ...            ...   \n",
      "111629                                    0            0              0   \n",
      "111630                                    0            0              0   \n",
      "111631                                    0            0              0   \n",
      "111632                                    0            0              0   \n",
      "111633                                    0            0              0   \n",
      "\n",
      "        Vehicle loan  Virtual currency  \n",
      "0                  0                 0  \n",
      "1                  0                 0  \n",
      "2                  0                 0  \n",
      "3                  0                 0  \n",
      "4                  0                 0  \n",
      "...              ...               ...  \n",
      "111629             0                 0  \n",
      "111630             0                 0  \n",
      "111631             0                 0  \n",
      "111632             0                 0  \n",
      "111633             0                 0  \n",
      "\n",
      "[111634 rows x 127 columns]\n"
     ]
    }
   ],
   "source": [
    "#print(df)\n",
    "\n",
    "one_hot2 = pd.Categorical(df['Sub-product'])\n",
    "df_dummies2 = pd.get_dummies(one_hot2)\n",
    "\n",
    "v_df = pd.DataFrame(vectors)\n",
    "df_concat = pd.concat([v_df, df_dummies2], axis = 1)\n",
    "print(df_concat)"
   ]
  },
  {
   "cell_type": "markdown",
   "metadata": {},
   "source": [
    "## Applying k-means"
   ]
  },
  {
   "cell_type": "code",
   "execution_count": 4,
   "metadata": {},
   "outputs": [],
   "source": [
    "from sklearn.cluster import KMeans\n",
    "from sklearn import metrics"
   ]
  },
  {
   "cell_type": "markdown",
   "metadata": {},
   "source": [
    "### Visual with elbow"
   ]
  },
  {
   "cell_type": "code",
   "execution_count": 5,
   "metadata": {},
   "outputs": [
    {
     "name": "stdout",
     "output_type": "stream",
     "text": [
      "1\n",
      "2\n",
      "3\n",
      "4\n",
      "5\n",
      "6\n",
      "7\n",
      "8\n",
      "9\n",
      "10\n",
      "11\n",
      "12\n",
      "13\n",
      "14\n",
      "15\n",
      "16\n",
      "17\n",
      "18\n",
      "19\n",
      "20\n",
      "21\n",
      "22\n",
      "23\n",
      "24\n"
     ]
    },
    {
     "data": {
      "image/png": "[encoded data removed]",
      "text/plain": [
       "<Figure size 432x288 with 1 Axes>"
      ]
     },
     "metadata": {
      "needs_background": "light"
     },
     "output_type": "display_data"
    }
   ],
   "source": [
    "inertia = []\n",
    "k_min=1\n",
    "k_max=25\n",
    "for i in range(k_min, k_max):\n",
    "    print(i)\n",
    "    km = KMeans(n_clusters=i,init='k-means++')\n",
    "    km.fit(df_concat)\n",
    "    inertia.append(km.inertia_)\n",
    "\n",
    "plt.plot(range(k_min,k_max), inertia,marker='o')\n",
    "plt.xlabel('Number of clusters')\n",
    "plt.ylabel('Cluster inertia')\n",
    "plt.show()"
   ]
  },
  {
   "cell_type": "markdown",
   "metadata": {},
   "source": [
    "### Automatic with silhouette"
   ]
  },
  {
   "cell_type": "code",
   "execution_count": 6,
   "metadata": {
    "scrolled": false
   },
   "outputs": [
    {
     "name": "stdout",
     "output_type": "stream",
     "text": [
      "4\n",
      "Train done\n",
      "Silhouette done\n",
      "0.11203157\n",
      "5\n",
      "Train done\n",
      "Silhouette done\n",
      "0.12790294\n",
      "6\n",
      "Train done\n",
      "Silhouette done\n",
      "0.14884476\n",
      "7\n",
      "Train done\n",
      "Silhouette done\n",
      "0.16609743\n",
      "8\n",
      "Train done\n",
      "Silhouette done\n",
      "0.18563236\n",
      "9\n",
      "Train done\n",
      "Silhouette done\n",
      "0.20417298\n",
      "10\n",
      "Train done\n",
      "Silhouette done\n",
      "0.20601939\n",
      "11\n",
      "Train done\n",
      "Silhouette done\n",
      "0.22383931\n",
      "12\n",
      "Train done\n",
      "Silhouette done\n",
      "0.22891319\n",
      "13\n",
      "Train done\n",
      "Silhouette done\n",
      "0.24177553\n",
      "14\n",
      "Train done\n",
      "Silhouette done\n",
      "0.23943508\n",
      "Cluster id labels for inputted data\n",
      "[11 11  8 ...  4  4  4]\n",
      "Centroids data\n",
      "[[ 6.79797083e-02  2.80941594e-02 -8.12916160e-02 ... -4.91738319e-07\n",
      "   1.12876296e-06 -3.25962901e-07]\n",
      " [-6.26859292e-02  7.59121031e-02 -4.76820059e-02 ... -7.26431608e-07\n",
      "   1.13621354e-06  1.93715096e-07]\n",
      " [-8.00356716e-02  3.50124314e-02 -8.20507854e-03 ... -5.20609319e-07\n",
      "   1.12876296e-06 -2.84984708e-07]\n",
      " ...\n",
      " [-8.98926407e-02 -3.90097648e-02 -9.73695815e-02 ... -1.08033419e-07\n",
      "   1.11386180e-06  2.13052794e-01]\n",
      " [-5.54599166e-02 -1.45852380e-02 -1.06791064e-01 ...  4.47034836e-08\n",
      "   1.08405948e-06 -3.17580998e-07]\n",
      " [-3.92072201e-02  6.73674643e-02 -7.52705261e-02 ... -3.61353159e-07\n",
      "   1.12503767e-06 -3.25031579e-07]]\n",
      "Score (Opposite of the value of X on the K-means objective which is Sum of distances of samples to their closest cluster center):\n",
      "-210938.14\n",
      "Silhouette_score: \n",
      "0.24177553\n"
     ]
    }
   ],
   "source": [
    "sil_max = -99999\n",
    "opt_k = 0\n",
    "k_min=4\n",
    "k_max=15\n",
    "\n",
    "for i in range(k_min, k_max):\n",
    "    print(i)\n",
    "    kmeans = KMeans(n_clusters=i)\n",
    "    kmeans.fit(df_concat)\n",
    "    \n",
    "    labels = kmeans.labels_\n",
    "    centroids = kmeans.cluster_centers_\n",
    "    print(\"Train done\")\n",
    "    silhouette_score = metrics.silhouette_score(df_concat, labels, metric='euclidean')\n",
    "    print(\"Silhouette done\")\n",
    "    print(silhouette_score)\n",
    "    if(sil_max < silhouette_score):\n",
    "        sil_max = silhouette_score\n",
    "        opt_k = i\n",
    "\n",
    "\n",
    "kmeans = KMeans(n_clusters=opt_k)\n",
    "kmeans.fit(df_concat) \n",
    "\n",
    "labels = kmeans.labels_\n",
    "centroids = kmeans.cluster_centers_\n",
    "print (\"Cluster id labels for inputted data\")\n",
    "print (labels)\n",
    "print (\"Centroids data\")\n",
    "print (centroids)\n",
    " \n",
    "print (\"Score (Opposite of the value of X on the K-means objective which is Sum of distances of samples to their closest cluster center):\")\n",
    "print (kmeans.score(df_concat))"
   ]
  },
  {
   "cell_type": "markdown",
   "metadata": {},
   "source": [
    "## Plotting the classes"
   ]
  },
  {
   "cell_type": "code",
   "execution_count": 7,
   "metadata": {},
   "outputs": [],
   "source": [
    "df_clustered = pd.concat([df, pd.DataFrame(labels, columns=[\"clust\"])], axis = 1)\n",
    "df_clustered = df_clustered.dropna()"
   ]
  },
  {
   "cell_type": "code",
   "execution_count": 8,
   "metadata": {},
   "outputs": [
    {
     "name": "stdout",
     "output_type": "stream",
     "text": [
      "                                                  Product  \\\n",
      "0               Payday loan, title loan, or personal loan   \n",
      "1               Payday loan, title loan, or personal loan   \n",
      "2                                   Vehicle loan or lease   \n",
      "3       Money transfer, virtual currency, or money ser...   \n",
      "4               Payday loan, title loan, or personal loan   \n",
      "...                                                   ...   \n",
      "111629                            Bank account or service   \n",
      "111630                            Bank account or service   \n",
      "111631                            Bank account or service   \n",
      "111632                            Bank account or service   \n",
      "111633                            Bank account or service   \n",
      "\n",
      "                       Sub-product  \\\n",
      "0                 Installment loan   \n",
      "1                 Installment loan   \n",
      "2                             Loan   \n",
      "3                  Debt settlement   \n",
      "4                      Payday loan   \n",
      "...                            ...   \n",
      "111629            Checking account   \n",
      "111630             Savings account   \n",
      "111631  Other bank product/service   \n",
      "111632            Checking account   \n",
      "111633            Checking account   \n",
      "\n",
      "                             Consumer complaint narrative  clust  \n",
      "0       they would not let me pay my loan off 2 days b...     11  \n",
      "1       service finance are liars and are charging me ...     11  \n",
      "2       on xx/xx/ i signed a car loan agreement to fin...      8  \n",
      "3       we hired and debt collection to handle collect...     10  \n",
      "4       i borrowed 200.00 in an financial emergency fr...     11  \n",
      "...                                                   ...    ...  \n",
      "111629  i open an account with us bank 2016 they were ...      4  \n",
      "111630  i use wells fargo company strictly as a reserv...      4  \n",
      "111631  chase bank has hit my credit bureau twice in 2...      4  \n",
      "111632  near the end of 2016 i opened a citigold check...      4  \n",
      "111633  to whom it may concern i have transferred 100....      4  \n",
      "\n",
      "[111634 rows x 4 columns]\n"
     ]
    },
    {
     "data": {
      "text/plain": [
       "<matplotlib.axes._subplots.AxesSubplot at 0x1a348b2c108>"
      ]
     },
     "execution_count": 8,
     "metadata": {},
     "output_type": "execute_result"
    },
    {
     "data": {
      "image/png": "[encoded data removed]",
      "text/plain": [
       "<Figure size 720x720 with 1 Axes>"
      ]
     },
     "metadata": {},
     "output_type": "display_data"
    }
   ],
   "source": [
    "print(df_clustered)\n",
    "\n",
    "df_clustered.groupby(\"clust\")[\"clust\"].count().plot(kind = \"pie\", autopct='%.2f', figsize = (10, 10))"
   ]
  },
  {
   "cell_type": "code",
   "execution_count": null,
   "metadata": {},
   "outputs": [],
   "source": []
  }
 ],
 "metadata": {
  "kernelspec": {
   "display_name": "Python 3",
   "language": "python",
   "name": "python3"
  },
  "language_info": {
   "codemirror_mode": {
    "name": "ipython",
    "version": 3
   },
   "file_extension": ".py",
   "mimetype": "text/x-python",
   "name": "python",
   "nbconvert_exporter": "python",
   "pygments_lexer": "ipython3",
   "version": "3.7.6"
  },
  "toc": {
   "base_numbering": 1,
   "nav_menu": {},
   "number_sections": true,
   "sideBar": true,
   "skip_h1_title": false,
   "title_cell": "Table of Contents",
   "title_sidebar": "Contents",
   "toc_cell": false,
   "toc_position": {},
   "toc_section_display": true,
   "toc_window_display": false
  }
 },
 "nbformat": 4,
 "nbformat_minor": 2
}
