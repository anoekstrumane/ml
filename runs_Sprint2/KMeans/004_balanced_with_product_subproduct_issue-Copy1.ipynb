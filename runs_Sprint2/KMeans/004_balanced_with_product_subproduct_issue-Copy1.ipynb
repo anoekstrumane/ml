{
 "cells": [
  {
   "cell_type": "markdown",
   "metadata": {},
   "source": [
    "## Reading the data"
   ]
  },
  {
   "cell_type": "code",
   "execution_count": 1,
   "metadata": {},
   "outputs": [],
   "source": [
    "import pandas as pd\n",
    "import numpy as np\n",
    "from gensim.models.doc2vec import Doc2Vec, TaggedDocument\n",
    "import matplotlib.pyplot as plt\n",
    "\n",
    "df = pd.read_csv(\"../../corpus_sprint2_balanced_cpsi.csv\", encoding=\"utf-8\")\n",
    "df = df.dropna()\n",
    "\n",
    "model = Doc2Vec.load(\"../../model_doc2vec_balanced_20epochs\")"
   ]
  },
  {
   "cell_type": "markdown",
   "metadata": {},
   "source": [
    "## One hot encoding and concatenating"
   ]
  },
  {
   "cell_type": "code",
   "execution_count": 2,
   "metadata": {},
   "outputs": [],
   "source": [
    "vectors = model.docvecs.vectors_docs"
   ]
  },
  {
   "cell_type": "code",
   "execution_count": 3,
   "metadata": {},
   "outputs": [
    {
     "name": "stdout",
     "output_type": "stream",
     "text": [
      "               0         1         2         3         4         5         6  \\\n",
      "0      -0.188312  0.235858 -0.160661 -0.062930  0.088282  0.184802  0.369231   \n",
      "1      -0.069450  0.123566 -0.331953  0.132706  0.416698 -0.337001  0.119607   \n",
      "2      -0.145901  0.255647  0.014258 -0.009380  0.239211 -0.127895  0.123045   \n",
      "3      -0.074536  0.037086 -0.051584 -0.062005  0.204723 -0.108399  0.280387   \n",
      "4       0.306871 -0.032056 -0.098984 -0.138455  0.197950 -0.033127 -0.198101   \n",
      "...          ...       ...       ...       ...       ...       ...       ...   \n",
      "111629 -0.131735  0.009762  0.033046 -0.530487 -0.132169  0.258420 -0.012071   \n",
      "111630 -0.016358  0.296047  0.117149 -0.307706 -0.198284 -0.304725 -0.305938   \n",
      "111631 -0.062303  0.288477  0.159682 -0.103658 -0.100076  0.008712 -0.103005   \n",
      "111632 -0.288595  0.146657 -0.130089  0.103363 -0.111763  0.095894 -0.089777   \n",
      "111633  0.192410  0.238593 -0.077316  0.058626  0.091606 -0.226398 -0.055350   \n",
      "\n",
      "               7         8         9  ...  \\\n",
      "0      -0.142733 -0.156262  0.117743  ...   \n",
      "1       0.362136  0.066799 -0.235784  ...   \n",
      "2      -0.053215 -0.479566 -0.095277  ...   \n",
      "3      -0.018035  0.095041 -0.117392  ...   \n",
      "4      -0.019632 -0.008732  0.074811  ...   \n",
      "...          ...       ...       ...  ...   \n",
      "111629  0.092045 -0.220419  0.317760  ...   \n",
      "111630 -0.184995  0.109105  0.044226  ...   \n",
      "111631 -0.250125 -0.297901 -0.026790  ...   \n",
      "111632 -0.224396 -0.048519 -0.174968  ...   \n",
      "111633 -0.258702 -0.267105 -0.201890  ...   \n",
      "\n",
      "        Unauthorized transactions or other transaction problem  \\\n",
      "0                                                       0        \n",
      "1                                                       0        \n",
      "2                                                       0        \n",
      "3                                                       0        \n",
      "4                                                       0        \n",
      "...                                                   ...        \n",
      "111629                                                  0        \n",
      "111630                                                  0        \n",
      "111631                                                  0        \n",
      "111632                                                  0        \n",
      "111633                                                  0        \n",
      "\n",
      "        Unexpected or other fees  Unsolicited issuance of credit card  \\\n",
      "0                              0                                    0   \n",
      "1                              0                                    0   \n",
      "2                              0                                    0   \n",
      "3                              0                                    0   \n",
      "4                              0                                    0   \n",
      "...                          ...                                  ...   \n",
      "111629                         0                                    0   \n",
      "111630                         0                                    0   \n",
      "111631                         0                                    0   \n",
      "111632                         0                                    0   \n",
      "111633                         0                                    0   \n",
      "\n",
      "        Using a debit or ATM card  \\\n",
      "0                               0   \n",
      "1                               0   \n",
      "2                               0   \n",
      "3                               0   \n",
      "4                               0   \n",
      "...                           ...   \n",
      "111629                          0   \n",
      "111630                          0   \n",
      "111631                          0   \n",
      "111632                          0   \n",
      "111633                          0   \n",
      "\n",
      "        Vehicle was damaged or destroyed the vehicle  \\\n",
      "0                                                  0   \n",
      "1                                                  0   \n",
      "2                                                  0   \n",
      "3                                                  0   \n",
      "4                                                  0   \n",
      "...                                              ...   \n",
      "111629                                             0   \n",
      "111630                                             0   \n",
      "111631                                             0   \n",
      "111632                                             0   \n",
      "111633                                             0   \n",
      "\n",
      "        Vehicle was repossessed or sold the vehicle  \\\n",
      "0                                                 0   \n",
      "1                                                 0   \n",
      "2                                                 0   \n",
      "3                                                 0   \n",
      "4                                                 0   \n",
      "...                                             ...   \n",
      "111629                                            0   \n",
      "111630                                            0   \n",
      "111631                                            0   \n",
      "111632                                            0   \n",
      "111633                                            0   \n",
      "\n",
      "        Was approved for a loan, but didn't receive money  \\\n",
      "0                                                       0   \n",
      "1                                                       0   \n",
      "2                                                       0   \n",
      "3                                                       0   \n",
      "4                                                       0   \n",
      "...                                                   ...   \n",
      "111629                                                  0   \n",
      "111630                                                  0   \n",
      "111631                                                  0   \n",
      "111632                                                  0   \n",
      "111633                                                  0   \n",
      "\n",
      "        Was approved for a loan, but didn't receive the money  \\\n",
      "0                                                       0       \n",
      "1                                                       0       \n",
      "2                                                       0       \n",
      "3                                                       0       \n",
      "4                                                       0       \n",
      "...                                                   ...       \n",
      "111629                                                  0       \n",
      "111630                                                  0       \n",
      "111631                                                  0       \n",
      "111632                                                  0       \n",
      "111633                                                  0       \n",
      "\n",
      "        Written notification about debt  Wrong amount charged or received  \n",
      "0                                     0                                 0  \n",
      "1                                     0                                 0  \n",
      "2                                     0                                 0  \n",
      "3                                     0                                 0  \n",
      "4                                     0                                 0  \n",
      "...                                 ...                               ...  \n",
      "111629                                0                                 0  \n",
      "111630                                0                                 0  \n",
      "111631                                0                                 0  \n",
      "111632                                0                                 0  \n",
      "111633                                0                                 0  \n",
      "\n",
      "[111634 rows x 276 columns]\n"
     ]
    }
   ],
   "source": [
    "#print(df)\n",
    "one_hot = pd.Categorical(df['Product'])\n",
    "df_dummies = pd.get_dummies(one_hot)\n",
    "\n",
    "one_hot2 = pd.Categorical(df['Sub-product'])\n",
    "df_dummies2 = pd.get_dummies(one_hot2)\n",
    "\n",
    "one_hot3 = pd.Categorical(df['Issue'])\n",
    "df_dummies3 = pd.get_dummies(one_hot3)\n",
    "\n",
    "v_df = pd.DataFrame(vectors)\n",
    "df_concat = pd.concat([v_df, df_dummies, df_dummies2, df_dummies3], axis = 1)\n",
    "print(df_concat)"
   ]
  },
  {
   "cell_type": "markdown",
   "metadata": {},
   "source": [
    "## Applying k-means"
   ]
  },
  {
   "cell_type": "code",
   "execution_count": 4,
   "metadata": {},
   "outputs": [],
   "source": [
    "from sklearn.cluster import KMeans\n",
    "from sklearn import metrics"
   ]
  },
  {
   "cell_type": "markdown",
   "metadata": {},
   "source": [
    "### Visual with elbow"
   ]
  },
  {
   "cell_type": "code",
   "execution_count": 5,
   "metadata": {},
   "outputs": [
    {
     "name": "stdout",
     "output_type": "stream",
     "text": [
      "1\n",
      "2\n",
      "3\n",
      "4\n",
      "5\n",
      "6\n",
      "7\n",
      "8\n",
      "9\n",
      "10\n",
      "11\n",
      "12\n",
      "13\n",
      "14\n",
      "15\n",
      "16\n",
      "17\n",
      "18\n",
      "19\n",
      "20\n",
      "21\n",
      "22\n",
      "23\n",
      "24\n"
     ]
    },
    {
     "data": {
      "image/png": "[encoded data removed]",
      "text/plain": [
       "<Figure size 432x288 with 1 Axes>"
      ]
     },
     "metadata": {
      "needs_background": "light"
     },
     "output_type": "display_data"
    }
   ],
   "source": [
    "inertia = []\n",
    "k_min=1\n",
    "k_max=25\n",
    "for i in range(k_min, k_max):\n",
    "    print(i)\n",
    "    km = KMeans(n_clusters=i,init='k-means++')\n",
    "    km.fit(df_concat)\n",
    "    inertia.append(km.inertia_)\n",
    "\n",
    "plt.plot(range(k_min,k_max), inertia,marker='o')\n",
    "plt.xlabel('Number of clusters')\n",
    "plt.ylabel('Cluster inertia')\n",
    "plt.show()"
   ]
  },
  {
   "cell_type": "markdown",
   "metadata": {},
   "source": [
    "### Automatic with silhouette"
   ]
  },
  {
   "cell_type": "code",
   "execution_count": 10,
   "metadata": {
    "scrolled": false
   },
   "outputs": [
    {
     "name": "stdout",
     "output_type": "stream",
     "text": [
      "6\n",
      "Train done\n",
      "Silhouette done\n",
      "0.13331369\n",
      "13\n",
      "Train done\n",
      "Silhouette done\n",
      "0.2128088\n",
      "Cluster id labels for inputted data\n",
      "[0 0 7 ... 2 2 2]\n",
      "Centroids data\n",
      "[[-5.54599166e-02 -1.45852380e-02 -1.06791064e-01 ...  1.03086606e-02\n",
      "  -6.46337867e-07 -1.22468919e-07]\n",
      " [-8.00356716e-02  3.50124314e-02 -8.20507854e-03 ...  3.21888365e-08\n",
      "  -9.13627446e-07 -1.48895197e-07]\n",
      " [ 3.02012600e-02  1.05728664e-01 -5.62472753e-02 ...  3.24216671e-08\n",
      "  -9.30391252e-07 -1.50525011e-07]\n",
      " ...\n",
      " [-8.98926407e-02 -3.90097648e-02 -9.73695815e-02 ...  3.10246833e-08\n",
      "  -8.25151801e-07  2.26242952e-02]\n",
      " [ 1.38851963e-02  2.15379782e-02 -9.50428173e-02 ...  3.26544978e-08\n",
      "  -9.43429768e-07 -1.51921995e-07]\n",
      " [-8.99317190e-02 -4.20005247e-02 -9.62675065e-02 ...  3.30037437e-08\n",
      "  -9.69506800e-07 -1.54366717e-07]]\n",
      "Score (Opposite of the value of X on the K-means objective which is Sum of distances of samples to their closest cluster center):\n",
      "-295261.78\n",
      "Silhouette_score: \n",
      "0.2128088\n"
     ]
    }
   ],
   "source": [
    "sil_max = -99999\n",
    "opt_k = 0\n",
    "for i in [6, 13]:\n",
    "    print(i)\n",
    "    kmeans = KMeans(n_clusters=i)\n",
    "    kmeans.fit(df_concat)\n",
    "    \n",
    "    labels = kmeans.labels_\n",
    "    centroids = kmeans.cluster_centers_\n",
    "    print(\"Train done\")\n",
    "    silhouette_score = metrics.silhouette_score(df_concat, labels, metric='euclidean')\n",
    "    print(\"Silhouette done\")\n",
    "    print(silhouette_score)\n",
    "    if(sil_max < silhouette_score):\n",
    "        sil_max = silhouette_score\n",
    "        opt_k = i\n",
    "\n",
    "\n",
    "kmeans = KMeans(n_clusters=opt_k)\n",
    "kmeans.fit(df_concat) \n",
    "\n",
    "labels = kmeans.labels_\n",
    "centroids = kmeans.cluster_centers_\n",
    "print (\"Cluster id labels for inputted data\")\n",
    "print (labels)\n",
    "print (\"Centroids data\")\n",
    "print (centroids)\n",
    " \n",
    "print (\"Score (Opposite of the value of X on the K-means objective which is Sum of distances of samples to their closest cluster center):\")\n",
    "print (kmeans.score(df_concat))"
   ]
  },
  {
   "cell_type": "markdown",
   "metadata": {},
   "source": [
    "## Plotting the classes"
   ]
  },
  {
   "cell_type": "code",
   "execution_count": 11,
   "metadata": {},
   "outputs": [],
   "source": [
    "df_clustered = pd.concat([df, pd.DataFrame(labels, columns=[\"clust\"])], axis = 1)\n",
    "df_clustered = df_clustered.dropna()"
   ]
  },
  {
   "cell_type": "code",
   "execution_count": 12,
   "metadata": {},
   "outputs": [
    {
     "name": "stdout",
     "output_type": "stream",
     "text": [
      "                                                  Product  \\\n",
      "0               Payday loan, title loan, or personal loan   \n",
      "1               Payday loan, title loan, or personal loan   \n",
      "2                                   Vehicle loan or lease   \n",
      "3       Money transfer, virtual currency, or money ser...   \n",
      "4               Payday loan, title loan, or personal loan   \n",
      "...                                                   ...   \n",
      "111629                            Bank account or service   \n",
      "111630                            Bank account or service   \n",
      "111631                            Bank account or service   \n",
      "111632                            Bank account or service   \n",
      "111633                            Bank account or service   \n",
      "\n",
      "                       Sub-product  \\\n",
      "0                 Installment loan   \n",
      "1                 Installment loan   \n",
      "2                             Loan   \n",
      "3                  Debt settlement   \n",
      "4                      Payday loan   \n",
      "...                            ...   \n",
      "111629            Checking account   \n",
      "111630  Other bank product/service   \n",
      "111631            Checking account   \n",
      "111632            Checking account   \n",
      "111633            Checking account   \n",
      "\n",
      "                                                    Issue  \\\n",
      "0       Problem with the payoff process at the end of ...   \n",
      "1              Charged fees or interest you didn't expect   \n",
      "2                Problems at the end of the loan or lease   \n",
      "3                                           Fraud or scam   \n",
      "4       Problem with the payoff process at the end of ...   \n",
      "...                                                   ...   \n",
      "111629            Account opening, closing, or management   \n",
      "111630            Account opening, closing, or management   \n",
      "111631           Making/receiving payments, sending money   \n",
      "111632           Making/receiving payments, sending money   \n",
      "111633              Problems caused by my funds being low   \n",
      "\n",
      "                               Sub-issue  \\\n",
      "0                                   None   \n",
      "1                                   None   \n",
      "2       Problem with paying off the loan   \n",
      "3                                   None   \n",
      "4                                   None   \n",
      "...                                  ...   \n",
      "111629                              None   \n",
      "111630                              None   \n",
      "111631                              None   \n",
      "111632                              None   \n",
      "111633                              None   \n",
      "\n",
      "                             Consumer complaint narrative  clust  \n",
      "0       they would not let me pay my loan off 2 days b...      0  \n",
      "1       service finance are liars and are charging me ...      0  \n",
      "2       on xx/xx/ i signed a car loan agreement to fin...      7  \n",
      "3       we hired and debt collection to handle collect...     10  \n",
      "4       i borrowed 200.00 in an financial emergency fr...      0  \n",
      "...                                                   ...    ...  \n",
      "111629  citi offered me miles for opening a citigold c...      2  \n",
      "111630  hsa bank a division of webster bank has not se...      2  \n",
      "111631  i currently am enrolled in suntrust billpay. i...      2  \n",
      "111632  i recently switched bank accounts to pnc and s...      2  \n",
      "111633  i am a td bank account holder. i receive overd...      2  \n",
      "\n",
      "[111634 rows x 6 columns]\n"
     ]
    },
    {
     "data": {
      "text/plain": [
       "<matplotlib.axes._subplots.AxesSubplot at 0x1580026a748>"
      ]
     },
     "execution_count": 12,
     "metadata": {},
     "output_type": "execute_result"
    },
    {
     "data": {
      "image/png": "[encoded data removed]",
      "text/plain": [
       "<Figure size 720x720 with 1 Axes>"
      ]
     },
     "metadata": {},
     "output_type": "display_data"
    }
   ],
   "source": [
    "print(df_clustered)\n",
    "\n",
    "df_clustered.groupby(\"clust\")[\"clust\"].count().plot(kind = \"pie\", autopct='%.2f', figsize = (10, 10))"
   ]
  },
  {
   "cell_type": "code",
   "execution_count": null,
   "metadata": {},
   "outputs": [],
   "source": []
  }
 ],
 "metadata": {
  "kernelspec": {
   "display_name": "Python 3",
   "language": "python",
   "name": "python3"
  },
  "language_info": {
   "codemirror_mode": {
    "name": "ipython",
    "version": 3
   },
   "file_extension": ".py",
   "mimetype": "text/x-python",
   "name": "python",
   "nbconvert_exporter": "python",
   "pygments_lexer": "ipython3",
   "version": "3.7.6"
  },
  "toc": {
   "base_numbering": 1,
   "nav_menu": {},
   "number_sections": true,
   "sideBar": true,
   "skip_h1_title": false,
   "title_cell": "Table of Contents",
   "title_sidebar": "Contents",
   "toc_cell": false,
   "toc_position": {},
   "toc_section_display": true,
   "toc_window_display": false
  }
 },
 "nbformat": 4,
 "nbformat_minor": 2
}
