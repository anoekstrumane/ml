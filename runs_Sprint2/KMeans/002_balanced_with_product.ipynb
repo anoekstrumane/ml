{
 "cells": [
  {
   "cell_type": "markdown",
   "metadata": {},
   "source": [
    "## Reading the data"
   ]
  },
  {
   "cell_type": "code",
   "execution_count": 1,
   "metadata": {},
   "outputs": [],
   "source": [
    "import pandas as pd\n",
    "import numpy as np\n",
    "from gensim.models.doc2vec import Doc2Vec, TaggedDocument\n",
    "import matplotlib.pyplot as plt\n",
    "\n",
    "df = pd.read_csv(\"../../corpus_sprint2_balanced_cp.csv\", encoding=\"utf-8\")\n",
    "df = df.dropna()\n",
    "\n",
    "model = Doc2Vec.load(\"../../model_doc2vec_balanced_20epochs\")"
   ]
  },
  {
   "cell_type": "markdown",
   "metadata": {},
   "source": [
    "## One hot encoding and concatenating"
   ]
  },
  {
   "cell_type": "code",
   "execution_count": 2,
   "metadata": {},
   "outputs": [],
   "source": [
    "vectors = model.docvecs.vectors_docs"
   ]
  },
  {
   "cell_type": "code",
   "execution_count": 3,
   "metadata": {},
   "outputs": [
    {
     "name": "stdout",
     "output_type": "stream",
     "text": [
      "               0         1         2         3         4         5         6  \\\n",
      "0      -0.188312  0.235858 -0.160661 -0.062930  0.088282  0.184802  0.369231   \n",
      "1      -0.069450  0.123566 -0.331953  0.132706  0.416698 -0.337001  0.119607   \n",
      "2      -0.145901  0.255647  0.014258 -0.009380  0.239211 -0.127895  0.123045   \n",
      "3      -0.074536  0.037086 -0.051584 -0.062005  0.204723 -0.108399  0.280387   \n",
      "4       0.306871 -0.032056 -0.098984 -0.138455  0.197950 -0.033127 -0.198101   \n",
      "...          ...       ...       ...       ...       ...       ...       ...   \n",
      "111629 -0.131735  0.009762  0.033046 -0.530487 -0.132169  0.258420 -0.012071   \n",
      "111630 -0.016358  0.296047  0.117149 -0.307706 -0.198284 -0.304725 -0.305938   \n",
      "111631 -0.062303  0.288477  0.159682 -0.103658 -0.100076  0.008712 -0.103005   \n",
      "111632 -0.288595  0.146657 -0.130089  0.103363 -0.111763  0.095894 -0.089777   \n",
      "111633  0.192410  0.238593 -0.077316  0.058626  0.091606 -0.226398 -0.055350   \n",
      "\n",
      "               7         8         9  ...  Credit card  \\\n",
      "0      -0.142733 -0.156262  0.117743  ...            0   \n",
      "1       0.362136  0.066799 -0.235784  ...            0   \n",
      "2      -0.053215 -0.479566 -0.095277  ...            0   \n",
      "3      -0.018035  0.095041 -0.117392  ...            0   \n",
      "4      -0.019632 -0.008732  0.074811  ...            0   \n",
      "...          ...       ...       ...  ...          ...   \n",
      "111629  0.092045 -0.220419  0.317760  ...            0   \n",
      "111630 -0.184995  0.109105  0.044226  ...            0   \n",
      "111631 -0.250125 -0.297901 -0.026790  ...            0   \n",
      "111632 -0.224396 -0.048519 -0.174968  ...            0   \n",
      "111633 -0.258702 -0.267105 -0.201890  ...            0   \n",
      "\n",
      "        Credit card or prepaid card  Credit reporting  \\\n",
      "0                                 0                 0   \n",
      "1                                 0                 0   \n",
      "2                                 0                 0   \n",
      "3                                 0                 0   \n",
      "4                                 0                 0   \n",
      "...                             ...               ...   \n",
      "111629                            0                 0   \n",
      "111630                            0                 0   \n",
      "111631                            0                 0   \n",
      "111632                            0                 0   \n",
      "111633                            0                 0   \n",
      "\n",
      "        Credit reporting, credit repair services, or other personal consumer reports  \\\n",
      "0                                                       0                              \n",
      "1                                                       0                              \n",
      "2                                                       0                              \n",
      "3                                                       0                              \n",
      "4                                                       0                              \n",
      "...                                                   ...                              \n",
      "111629                                                  0                              \n",
      "111630                                                  0                              \n",
      "111631                                                  0                              \n",
      "111632                                                  0                              \n",
      "111633                                                  0                              \n",
      "\n",
      "        Debt collection  Money transfer, virtual currency, or money service  \\\n",
      "0                     0                                                  0    \n",
      "1                     0                                                  0    \n",
      "2                     0                                                  0    \n",
      "3                     0                                                  1    \n",
      "4                     0                                                  0    \n",
      "...                 ...                                                ...    \n",
      "111629                0                                                  0    \n",
      "111630                0                                                  0    \n",
      "111631                0                                                  0    \n",
      "111632                0                                                  0    \n",
      "111633                0                                                  0    \n",
      "\n",
      "        Mortgage  Payday loan, title loan, or personal loan  Student loan  \\\n",
      "0              0                                          1             0   \n",
      "1              0                                          1             0   \n",
      "2              0                                          0             0   \n",
      "3              0                                          0             0   \n",
      "4              0                                          1             0   \n",
      "...          ...                                        ...           ...   \n",
      "111629         0                                          0             0   \n",
      "111630         0                                          0             0   \n",
      "111631         0                                          0             0   \n",
      "111632         0                                          0             0   \n",
      "111633         0                                          0             0   \n",
      "\n",
      "        Vehicle loan or lease  \n",
      "0                           0  \n",
      "1                           0  \n",
      "2                           1  \n",
      "3                           0  \n",
      "4                           0  \n",
      "...                       ...  \n",
      "111629                      0  \n",
      "111630                      0  \n",
      "111631                      0  \n",
      "111632                      0  \n",
      "111633                      0  \n",
      "\n",
      "[111634 rows x 63 columns]\n"
     ]
    }
   ],
   "source": [
    "#print(df)\n",
    "one_hot = pd.Categorical(df['Product'])\n",
    "df_dummies = pd.get_dummies(one_hot)\n",
    "\n",
    "v_df = pd.DataFrame(vectors)\n",
    "df_concat = pd.concat([v_df, df_dummies], axis = 1)\n",
    "print(df_concat)"
   ]
  },
  {
   "cell_type": "markdown",
   "metadata": {},
   "source": [
    "## Applying k-means"
   ]
  },
  {
   "cell_type": "code",
   "execution_count": 4,
   "metadata": {},
   "outputs": [],
   "source": [
    "from sklearn.cluster import KMeans\n",
    "from sklearn import metrics"
   ]
  },
  {
   "cell_type": "markdown",
   "metadata": {},
   "source": [
    "### Visual with elbow"
   ]
  },
  {
   "cell_type": "code",
   "execution_count": 5,
   "metadata": {},
   "outputs": [
    {
     "name": "stdout",
     "output_type": "stream",
     "text": [
      "1\n",
      "2\n",
      "3\n",
      "4\n",
      "5\n",
      "6\n",
      "7\n",
      "8\n",
      "9\n",
      "10\n",
      "11\n",
      "12\n",
      "13\n",
      "14\n",
      "15\n",
      "16\n",
      "17\n",
      "18\n",
      "19\n",
      "20\n",
      "21\n",
      "22\n",
      "23\n",
      "24\n"
     ]
    },
    {
     "data": {
      "image/png": "[encoded data removed]",
      "text/plain": [
       "<Figure size 432x288 with 1 Axes>"
      ]
     },
     "metadata": {
      "needs_background": "light"
     },
     "output_type": "display_data"
    }
   ],
   "source": [
    "inertia = []\n",
    "k_min=1\n",
    "k_max=25\n",
    "for i in range(k_min, k_max):\n",
    "    print(i)\n",
    "    km = KMeans(n_clusters=i,init='k-means++')\n",
    "    km.fit(df_concat)\n",
    "    inertia.append(km.inertia_)\n",
    "\n",
    "plt.plot(range(k_min,k_max), inertia,marker='o')\n",
    "plt.xlabel('Number of clusters')\n",
    "plt.ylabel('Cluster inertia')\n",
    "plt.show()"
   ]
  },
  {
   "cell_type": "markdown",
   "metadata": {},
   "source": [
    "### Automatic with silhouette"
   ]
  },
  {
   "cell_type": "code",
   "execution_count": 6,
   "metadata": {
    "scrolled": false
   },
   "outputs": [
    {
     "data": {
      "text/plain": [
       "'sil_max = -99999\\nopt_k = 0\\nk_min=2\\nk_max=15\\n\\nfor i in range(k_min, k_max):\\n    print(i)\\n    kmeans = KMeans(n_clusters=i)\\n    kmeans.fit(df_concat)\\n    \\n    labels = kmeans.labels_\\n    centroids = kmeans.cluster_centers_\\n    print(\"Train done\")\\n    silhouette_score = metrics.silhouette_score(df_concat, labels, metric=\\'euclidean\\')\\n    print(\"Silhouette done\")\\n    print(silhouette_score)\\n    if(sil_max < silhouette_score):\\n        sil_max = silhouette_score\\n        opt_k = i\\n\\n\\nkmeans = KMeans(n_clusters=opt_k)\\nkmeans.fit(df_concat) \\n\\nlabels = kmeans.labels_\\ncentroids = kmeans.cluster_centers_\\nprint (\"Cluster id labels for inputted data\")\\nprint (labels)\\nprint (\"Centroids data\")\\nprint (centroids)\\n \\nprint (\"Score (Opposite of the value of X on the K-means objective which is Sum of distances of samples to their closest cluster center):\")\\nprint (kmeans.score(df_concat))\\n \\nsilhouette_score = metrics.silhouette_score(df_concat, labels, metric=\\'euclidean\\')\\n \\nprint (\"Silhouette_score: \")\\nprint (silhouette_score)'"
      ]
     },
     "execution_count": 6,
     "metadata": {},
     "output_type": "execute_result"
    }
   ],
   "source": [
    "\"\"\"sil_max = -99999\n",
    "opt_k = 0\n",
    "k_min=2\n",
    "k_max=15\n",
    "\n",
    "for i in range(k_min, k_max):\n",
    "    print(i)\n",
    "    kmeans = KMeans(n_clusters=i)\n",
    "    kmeans.fit(df_concat)\n",
    "    \n",
    "    labels = kmeans.labels_\n",
    "    centroids = kmeans.cluster_centers_\n",
    "    print(\"Train done\")\n",
    "    silhouette_score = metrics.silhouette_score(df_concat, labels, metric='euclidean')\n",
    "    print(\"Silhouette done\")\n",
    "    print(silhouette_score)\n",
    "    if(sil_max < silhouette_score):\n",
    "        sil_max = silhouette_score\n",
    "        opt_k = i\n",
    "\n",
    "\n",
    "kmeans = KMeans(n_clusters=opt_k)\n",
    "kmeans.fit(df_concat) \n",
    "\n",
    "labels = kmeans.labels_\n",
    "centroids = kmeans.cluster_centers_\n",
    "print (\"Cluster id labels for inputted data\")\n",
    "print (labels)\n",
    "print (\"Centroids data\")\n",
    "print (centroids)\n",
    " \n",
    "print (\"Score (Opposite of the value of X on the K-means objective which is Sum of distances of samples to their closest cluster center):\")\n",
    "print (kmeans.score(df_concat))\n",
    "\"\"\""
   ]
  },
  {
   "cell_type": "markdown",
   "metadata": {},
   "source": [
    "## Plotting the classes"
   ]
  },
  {
   "cell_type": "code",
   "execution_count": 8,
   "metadata": {},
   "outputs": [],
   "source": [
    "kmeans = KMeans(n_clusters=13)\n",
    "kmeans.fit(df_concat) \n",
    "\n",
    "labels = kmeans.labels_\n",
    "centroids = kmeans.cluster_centers_\n",
    "\n",
    "df_clustered = pd.concat([df, pd.DataFrame(labels, columns=[\"clust\"])], axis = 1)\n",
    "df_clustered = df_clustered.dropna()"
   ]
  },
  {
   "cell_type": "code",
   "execution_count": 9,
   "metadata": {},
   "outputs": [
    {
     "name": "stdout",
     "output_type": "stream",
     "text": [
      "                                                  Product  \\\n",
      "0               Payday loan, title loan, or personal loan   \n",
      "1               Payday loan, title loan, or personal loan   \n",
      "2                                   Vehicle loan or lease   \n",
      "3       Money transfer, virtual currency, or money ser...   \n",
      "4               Payday loan, title loan, or personal loan   \n",
      "...                                                   ...   \n",
      "111629                            Bank account or service   \n",
      "111630                            Bank account or service   \n",
      "111631                            Bank account or service   \n",
      "111632                            Bank account or service   \n",
      "111633                            Bank account or service   \n",
      "\n",
      "                             Consumer complaint narrative  clust  \n",
      "0       they would not let me pay my loan off 2 days b...     10  \n",
      "1       service finance are liars and are charging me ...     10  \n",
      "2       on xx/xx/ i signed a car loan agreement to fin...     12  \n",
      "3       we hired and debt collection to handle collect...     11  \n",
      "4       i borrowed 200.00 in an financial emergency fr...     10  \n",
      "...                                                   ...    ...  \n",
      "111629  wells fargo bank is refusing to honor a check ...      1  \n",
      "111630  i was charged a monthly maintenance fee on an ...      1  \n",
      "111631  paypal.com signed me up for a \" paypal credit ...      1  \n",
      "111632  nfcu was contacted about a dispute i had with ...      1  \n",
      "111633  safe deposit box of . bank account transferred...      1  \n",
      "\n",
      "[111634 rows x 3 columns]\n"
     ]
    },
    {
     "data": {
      "text/plain": [
       "<matplotlib.axes._subplots.AxesSubplot at 0x29a3fb10c88>"
      ]
     },
     "execution_count": 9,
     "metadata": {},
     "output_type": "execute_result"
    },
    {
     "data": {
      "image/png": "[encoded data removed]",
      "text/plain": [
       "<Figure size 720x720 with 1 Axes>"
      ]
     },
     "metadata": {},
     "output_type": "display_data"
    }
   ],
   "source": [
    "print(df_clustered)\n",
    "\n",
    "df_clustered.groupby(\"clust\")[\"clust\"].count().plot(kind = \"pie\", autopct='%.2f', figsize = (10, 10))"
   ]
  }
 ],
 "metadata": {
  "kernelspec": {
   "display_name": "Python 3",
   "language": "python",
   "name": "python3"
  },
  "language_info": {
   "codemirror_mode": {
    "name": "ipython",
    "version": 3
   },
   "file_extension": ".py",
   "mimetype": "text/x-python",
   "name": "python",
   "nbconvert_exporter": "python",
   "pygments_lexer": "ipython3",
   "version": "3.7.6"
  },
  "toc": {
   "base_numbering": 1,
   "nav_menu": {},
   "number_sections": true,
   "sideBar": true,
   "skip_h1_title": false,
   "title_cell": "Table of Contents",
   "title_sidebar": "Contents",
   "toc_cell": false,
   "toc_position": {},
   "toc_section_display": true,
   "toc_window_display": false
  }
 },
 "nbformat": 4,
 "nbformat_minor": 2
}
