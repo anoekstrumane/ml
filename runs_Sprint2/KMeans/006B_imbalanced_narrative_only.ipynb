{
 "cells": [
  {
   "cell_type": "markdown",
   "metadata": {},
   "source": [
    "## Reading the data"
   ]
  },
  {
   "cell_type": "code",
   "execution_count": 7,
   "metadata": {},
   "outputs": [],
   "source": [
    "import pandas as pd\n",
    "import numpy as np\n",
    "from gensim.models.doc2vec import Doc2Vec, TaggedDocument\n",
    "import matplotlib.pyplot as plt\n",
    "\n",
    "df_bal = pd.read_csv(\"../../corpus_sprint2_imbalanced_cp.csv\", encoding=\"utf-8\")\n",
    "df = df_bal[\"Consumer complaint narrative\"]\n",
    "df = df.dropna()\n",
    "\n",
    "model = Doc2Vec.load(\"../../model_doc2vec_imbalanced_20epochs\")"
   ]
  },
  {
   "cell_type": "markdown",
   "metadata": {},
   "source": [
    "## Applying k-means"
   ]
  },
  {
   "cell_type": "code",
   "execution_count": 2,
   "metadata": {},
   "outputs": [],
   "source": [
    "vectors = model.docvecs.vectors_docs"
   ]
  },
  {
   "cell_type": "code",
   "execution_count": 3,
   "metadata": {},
   "outputs": [],
   "source": [
    "from sklearn.cluster import KMeans\n",
    "from sklearn import metrics"
   ]
  },
  {
   "cell_type": "markdown",
   "metadata": {},
   "source": [
    "### Visual with elbow"
   ]
  },
  {
   "cell_type": "code",
   "execution_count": 9,
   "metadata": {},
   "outputs": [
    {
     "name": "stdout",
     "output_type": "stream",
     "text": [
      "1\n",
      "2\n",
      "3\n",
      "4\n",
      "5\n",
      "6\n",
      "7\n",
      "8\n",
      "9\n"
     ]
    },
    {
     "data": {
      "image/png": "[encoded data removed]",
      "text/plain": [
       "<Figure size 432x288 with 1 Axes>"
      ]
     },
     "metadata": {
      "needs_background": "light"
     },
     "output_type": "display_data"
    }
   ],
   "source": [
    "inertia = []\n",
    "k_min=1\n",
    "k_max=10\n",
    "for i in range(k_min, k_max):\n",
    "    print(i)\n",
    "    km = KMeans(n_clusters=i,init='k-means++')\n",
    "    km.fit(vectors)\n",
    "    inertia.append(km.inertia_)\n",
    "\n",
    "plt.plot(range(k_min,k_max), inertia,marker='o')\n",
    "plt.xlabel('Number of clusters')\n",
    "plt.ylabel('Cluster inertia')\n",
    "plt.show()"
   ]
  },
  {
   "cell_type": "markdown",
   "metadata": {},
   "source": [
    "### Automatic with silhouette"
   ]
  },
  {
   "cell_type": "code",
   "execution_count": 4,
   "metadata": {
    "scrolled": false
   },
   "outputs": [
    {
     "name": "stdout",
     "output_type": "stream",
     "text": [
      "2\n",
      "Train done\n",
      "Silhouette done\n",
      "0.06549683\n",
      "3\n",
      "Train done\n",
      "Silhouette done\n",
      "0.0445493\n",
      "4\n",
      "Train done\n",
      "Silhouette done\n",
      "0.046159357\n",
      "5\n",
      "Train done\n",
      "Silhouette done\n",
      "0.03588252\n",
      "Cluster id labels for inputted data\n",
      "[0 1 0 ... 1 0 1]\n",
      "Centroids data\n",
      "[[-0.09357107  0.02486059 -0.05005679 -0.04017566  0.03453628  0.10651062\n",
      "   0.00578245 -0.06224272  0.01419877 -0.07631929  0.02667292 -0.09208676\n",
      "  -0.01187228  0.1281761   0.06549064 -0.00957657  0.04737936 -0.00479055\n",
      "  -0.08753236  0.04737681 -0.02967806 -0.18158102 -0.00334482  0.10681926\n",
      "  -0.00529356 -0.25754026 -0.1660991  -0.00798009  0.06895541 -0.02124416\n",
      "   0.00028327 -0.04685924 -0.03357963  0.01456523  0.13224563 -0.21057703\n",
      "  -0.19974904 -0.01038884 -0.03324467 -0.01415027 -0.07664019 -0.11453372\n",
      "  -0.2324398  -0.09742258 -0.01828411 -0.00983332 -0.04058218  0.09161721\n",
      "  -0.04401312 -0.07456931]\n",
      " [ 0.02808622  0.02507518 -0.10115371 -0.2049875   0.0413172  -0.07291754\n",
      "   0.01930008 -0.11688468 -0.03736746 -0.08369245  0.0214085  -0.13070168\n",
      "  -0.08155493  0.0378292   0.0131874  -0.05844029 -0.00220793 -0.04318517\n",
      "  -0.07232977 -0.06954774 -0.01836164 -0.12835525 -0.07239597  0.03561681\n",
      "   0.11816519 -0.11981492 -0.07342071 -0.03083621  0.03915407 -0.03730983\n",
      "   0.07447365 -0.06179615  0.01394048 -0.07141538 -0.01427404 -0.0806917\n",
      "  -0.13982445  0.10763936 -0.01296156  0.10791269  0.08963843 -0.1111326\n",
      "  -0.16935802 -0.11593466 -0.13765648 -0.02200193  0.17216653  0.1718424\n",
      "  -0.04896427  0.12937324]]\n",
      "Score (Opposite of the value of X on the K-means objective which is Sum of distances of samples to their closest cluster center):\n",
      "-163809.58\n",
      "Silhouette_score: \n",
      "0.065506525\n"
     ]
    }
   ],
   "source": [
    "sil_max = -99999\n",
    "opt_k = 0\n",
    "k_min=2\n",
    "k_max=6\n",
    "\n",
    "for i in range(k_min, k_max):\n",
    "    print(i)\n",
    "    kmeans = KMeans(n_clusters=i)\n",
    "    kmeans.fit(vectors)\n",
    "    \n",
    "    labels = kmeans.labels_\n",
    "    centroids = kmeans.cluster_centers_\n",
    "    print(\"Train done\")\n",
    "    silhouette_score = metrics.silhouette_score(vectors, labels, metric='euclidean')\n",
    "    print(\"Silhouette done\")\n",
    "    print(silhouette_score)\n",
    "    if(sil_max < silhouette_score):\n",
    "        sil_max = silhouette_score\n",
    "        opt_k = i\n",
    "kmeans = KMeans(n_clusters=opt_k)\n",
    "kmeans.fit(vectors) \n",
    "\n",
    "labels = kmeans.labels_\n",
    "centroids = kmeans.cluster_centers_\n",
    "print (\"Cluster id labels for inputted data\")\n",
    "print (labels)\n",
    "print (\"Centroids data\")\n",
    "print (centroids)\n",
    " \n",
    "print (\"Score (Opposite of the value of X on the K-means objective which is Sum of distances of samples to their closest cluster center):\")\n",
    "print (kmeans.score(vectors))\n",
    " \n",
    "silhouette_score = metrics.silhouette_score(vectors, labels, metric='euclidean')\n",
    " \n",
    "print (\"Silhouette_score: \")\n",
    "print (silhouette_score)"
   ]
  },
  {
   "cell_type": "markdown",
   "metadata": {},
   "source": [
    "## Plotting the classes"
   ]
  },
  {
   "cell_type": "code",
   "execution_count": 5,
   "metadata": {},
   "outputs": [],
   "source": [
    "df_clustered = pd.concat([df, pd.DataFrame(labels, columns=[\"clust\"])], axis = 1)\n",
    "df_clustered = df_clustered.dropna()"
   ]
  },
  {
   "cell_type": "code",
   "execution_count": 6,
   "metadata": {},
   "outputs": [
    {
     "name": "stdout",
     "output_type": "stream",
     "text": [
      "                             Consumer complaint narrative  clust\n",
      "0       they would not let me pay my loan off 2 days b...      0\n",
      "1       service finance are liars and are charging me ...      1\n",
      "2       on xx/xx/ i signed a car loan agreement to fin...      0\n",
      "3       we hired and debt collection to handle collect...      1\n",
      "4       i borrowed 200.00 in an financial emergency fr...      1\n",
      "...                                                   ...    ...\n",
      "111629  wells fargo bank is refusing to honor a check ...      1\n",
      "111630  i was charged a monthly maintenance fee on an ...      1\n",
      "111631  paypal.com signed me up for a \" paypal credit ...      1\n",
      "111632  nfcu was contacted about a dispute i had with ...      0\n",
      "111633  safe deposit box of . bank account transferred...      1\n",
      "\n",
      "[111634 rows x 2 columns]\n"
     ]
    },
    {
     "data": {
      "text/plain": [
       "<matplotlib.axes._subplots.AxesSubplot at 0x279e02d8408>"
      ]
     },
     "execution_count": 6,
     "metadata": {},
     "output_type": "execute_result"
    },
    {
     "data": {
      "image/png": "[encoded data removed]",
      "text/plain": [
       "<Figure size 720x720 with 1 Axes>"
      ]
     },
     "metadata": {},
     "output_type": "display_data"
    }
   ],
   "source": [
    "print(df_clustered)\n",
    "\n",
    "df_clustered.groupby(\"clust\")[\"clust\"].count().plot(kind = \"pie\", autopct='%.2f', figsize = (10, 10))"
   ]
  }
 ],
 "metadata": {
  "kernelspec": {
   "display_name": "Python 3",
   "language": "python",
   "name": "python3"
  },
  "language_info": {
   "codemirror_mode": {
    "name": "ipython",
    "version": 3
   },
   "file_extension": ".py",
   "mimetype": "text/x-python",
   "name": "python",
   "nbconvert_exporter": "python",
   "pygments_lexer": "ipython3",
   "version": "3.7.6"
  },
  "toc": {
   "base_numbering": 1,
   "nav_menu": {},
   "number_sections": true,
   "sideBar": true,
   "skip_h1_title": false,
   "title_cell": "Table of Contents",
   "title_sidebar": "Contents",
   "toc_cell": false,
   "toc_position": {},
   "toc_section_display": true,
   "toc_window_display": false
  }
 },
 "nbformat": 4,
 "nbformat_minor": 2
}
