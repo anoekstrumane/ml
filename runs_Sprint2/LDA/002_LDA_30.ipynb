{
 "cells": [
  {
   "cell_type": "markdown",
   "metadata": {},
   "source": [
    "<h1 style='color:#00868b'>LDA with 30 features; 4 runs: [20, 30, 40, 50] topics<span class=\"tocSkip\"></span></h1>"
   ]
  },
  {
   "cell_type": "markdown",
   "metadata": {},
   "source": [
    "## Reading the data"
   ]
  },
  {
   "cell_type": "code",
   "execution_count": 3,
   "metadata": {},
   "outputs": [],
   "source": [
    "import pandas as pd\n",
    "import numpy as np\n",
    "import matplotlib.pyplot as plt\n",
    "\n",
    "df_complaints = pd.read_csv(\"../../corpus_sprint2_pc_30_LDA.csv\", encoding=\"utf-8\")"
   ]
  },
  {
   "cell_type": "code",
   "execution_count": 4,
   "metadata": {},
   "outputs": [],
   "source": [
    "features = 30"
   ]
  },
  {
   "cell_type": "markdown",
   "metadata": {},
   "source": [
    "## LDA"
   ]
  },
  {
   "cell_type": "markdown",
   "metadata": {},
   "source": [
    "Parameters ([source](https://radimrehurek.com/gensim/models/ldamulticore.html)):\n",
    "* α: Topic smoothing parameter; can be set to an 1D array of length equal to the number of expected topics that expresses our a-priori belief for the each topics’ probability\n",
    "* eta: Word/term smoothing parameter; a scalar for a symmetric prior over topic/word probability\n",
    "\n",
    "Most topic modeling analyses in the literature ([Blei et al, 2003](https://www.researchgate.net/publication/326505884_Latent_Dirichlet_Allocation_LDA_for_Topic_Modeling_of_the_CFPB_Consumer_Complaints); [Blei and Lafferty, 2009](https://citeseerx.ist.psu.edu/viewdoc/download?doi=10.1.1.463.1205&rep=rep1&type=pdf#page=96); [Kaplan and Vakili, 2015](https://onlinelibrary.wiley.com/doi/abs/10.1002/smj.2294); [Blei, 2012](https://dl.acm.org/doi/pdf/10.1145/2133806.2133826)) suggest a value of 0.1 for both of these hyperparameters. This results in semantically meaningful topics. \n",
    "\n",
    "* number of topics: The number of topics LDA has to attempt to identify; through trial and error\n",
    "* iterations: Maximum number of iterations through the corpus when inferring the topic distribution of a corpus\n",
    "* passes: Number of passes through the corpus during training"
   ]
  },
  {
   "cell_type": "markdown",
   "metadata": {},
   "source": [
    "We used **parallelized Latent Dirichlet Allocation** which uses multiprocessing to speed up learning ([source](https://radimrehurek.com/gensim/models/ldamulticore.html))."
   ]
  },
  {
   "cell_type": "code",
   "execution_count": null,
   "metadata": {},
   "outputs": [
    {
     "name": "stdout",
     "output_type": "stream",
     "text": [
      "start with number of topics: 20\n"
     ]
    }
   ],
   "source": [
    "from gensim import corpora, models\n",
    "from sklearn import metrics\n",
    "from gensim.test.utils import common_corpus, common_dictionary\n",
    "\n",
    "n_iter = 2000\n",
    "alpha = 0.1\n",
    "eta = 0.1\n",
    "num_topics = [20,30,40,50] # sizes of the topics\n",
    "chunksize = 2000\n",
    "passes = 20\n",
    "iterations = 400\n",
    "\n",
    "for topics in num_topics:\n",
    "    print(\"start with number of topics:\", topics)\n",
    "    lda_model = models.LdaMulticore(\n",
    "                    corpus = df_complaints,\n",
    "                    id2word=common_dictionary,\n",
    "                    num_topics = topics, \n",
    "                    passes = passes,\n",
    "                    iterations = iterations,\n",
    "                    alpha = alpha, \n",
    "                    eta = eta,\n",
    "                    random_state = 42\n",
    "                   )\n",
    "    # Compute Perplexity\n",
    "    print(\"Perplexity: \", lda_model.log_perplexity(df_complaints))  # a measure of how good the model is. lower = better.\n",
    "    # save the trained model\n",
    "    print(\"Saving the model...\")\n",
    "    lda_model.save(\"/runs_Sprint2/LDA/lda_model_\" + str(features) + \"fea_\" + str(topics) + \"topics\")"
   ]
  },
  {
   "cell_type": "code",
   "execution_count": null,
   "metadata": {},
   "outputs": [],
   "source": [
    "# load the saved model\n",
    "lda_model20 = LdaModel.load(\"/runs_Sprint2/LDA/lda_model_\" + str(features) + \"fea_\" + 20 +\"topics\")\n",
    "lda_model30 = LdaModel.load(\"/runs_Sprint2/LDA/lda_model_\" + str(features) + \"fea_\" + 30 +\"topics\")\n",
    "lda_model40 = LdaModel.load(\"/runs_Sprint2/LDA/lda_model_\" + str(features) + \"fea_\" + 40 +\"topics\")\n",
    "lda_model50 = LdaModel.load(\"/runs_Sprint2/LDA/lda_model_\" + str(features) + \"fea_\" + 50 +\"topics\")"
   ]
  },
  {
   "cell_type": "markdown",
   "metadata": {},
   "source": [
    "Show the topics of the models"
   ]
  },
  {
   "cell_type": "code",
   "execution_count": null,
   "metadata": {},
   "outputs": [],
   "source": [
    "print(\"Model with 20 topics:\\n \", lda_model20.show_topics())\n",
    "print(\"Model with 30 topics:\\n \", lda_model30.show_topics())\n",
    "print(\"Model with 40 topics:\\n \", lda_model40.show_topics())\n",
    "print(\"Model with 50 topics:\\n \", lda_model50.show_topics())"
   ]
  }
 ],
 "metadata": {
  "kernelspec": {
   "display_name": "Python 3",
   "language": "python",
   "name": "python3"
  },
  "language_info": {
   "codemirror_mode": {
    "name": "ipython",
    "version": 3
   },
   "file_extension": ".py",
   "mimetype": "text/x-python",
   "name": "python",
   "nbconvert_exporter": "python",
   "pygments_lexer": "ipython3",
   "version": "3.7.7"
  },
  "toc": {
   "base_numbering": 1,
   "nav_menu": {},
   "number_sections": true,
   "sideBar": true,
   "skip_h1_title": false,
   "title_cell": "Table of Contents",
   "title_sidebar": "Contents",
   "toc_cell": false,
   "toc_position": {},
   "toc_section_display": true,
   "toc_window_display": false
  }
 },
 "nbformat": 4,
 "nbformat_minor": 2
}
