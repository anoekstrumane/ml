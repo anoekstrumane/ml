{
 "cells": [
  {
   "cell_type": "markdown",
   "metadata": {},
   "source": [
    "## Loading the data"
   ]
  },
  {
   "cell_type": "code",
   "execution_count": 1,
   "metadata": {},
   "outputs": [],
   "source": [
    "import pandas as pd\n",
    "import numpy as np\n",
    "from gensim.models.doc2vec import Doc2Vec, TaggedDocument\n",
    "import matplotlib.pyplot as plt\n",
    "from sklearn.cluster import DBSCAN\n",
    "from sklearn import metrics\n",
    "from sklearn.datasets import make_blobs\n",
    "from sklearn.preprocessing import StandardScaler\n",
    "\n",
    "df = pd.read_csv(\"../../corpus_sprint2_balanced_cpsi.csv\", encoding=\"utf-8\")\n",
    "df = df.dropna()\n",
    "\n",
    "model = Doc2Vec.load(\"../../model_doc2vec_balanced_20epochs\")\n",
    "\n",
    "vectors = model.docvecs.vectors_docs"
   ]
  },
  {
   "cell_type": "markdown",
   "metadata": {},
   "source": [
    "## One hot encoding"
   ]
  },
  {
   "cell_type": "code",
   "execution_count": 2,
   "metadata": {},
   "outputs": [
    {
     "name": "stdout",
     "output_type": "stream",
     "text": [
      "               0         1         2         3         4         5         6  \\\n",
      "0      -0.206502 -0.089569 -0.479192 -0.607455  0.441230 -0.835218  0.229955   \n",
      "1      -0.199045  0.245777 -0.058751 -0.922997  0.417415 -0.339759 -0.466736   \n",
      "2      -0.117612 -0.230441  0.104659 -0.059141  0.244450 -0.532243 -0.273285   \n",
      "3      -0.056852 -0.428939 -0.503455  0.431379 -0.107010 -0.341381 -1.130548   \n",
      "4      -0.144027 -0.137468 -0.196015 -0.340400  0.788206 -0.180849 -0.526431   \n",
      "...          ...       ...       ...       ...       ...       ...       ...   \n",
      "111629  0.475766  0.044374 -0.918518 -0.464938  0.257347 -0.190196 -0.419938   \n",
      "111630 -0.492041 -0.346752 -0.051855  0.526952  0.830449 -0.631116 -0.493316   \n",
      "111631  0.082189  0.002191  0.222593  0.533906  0.391737  0.046392 -0.482322   \n",
      "111632  0.238248 -0.162442  0.073858  0.188567  0.301132 -0.020022 -0.073487   \n",
      "111633 -0.241412 -0.182984 -0.777466  0.257785  0.239757 -0.851278 -0.222554   \n",
      "\n",
      "               7         8         9  ...  \\\n",
      "0       0.033730 -0.195595 -0.029248  ...   \n",
      "1      -0.029393 -0.175591  0.219608  ...   \n",
      "2      -0.009415 -0.230296 -0.170516  ...   \n",
      "3      -0.271844 -0.788258  0.475774  ...   \n",
      "4       0.171795 -0.226742  0.213695  ...   \n",
      "...          ...       ...       ...  ...   \n",
      "111629  0.015901 -0.001220  0.441931  ...   \n",
      "111630 -0.092520  0.051200  0.027536  ...   \n",
      "111631 -0.425899 -0.357975  0.518033  ...   \n",
      "111632 -0.243090  0.303880  0.608521  ...   \n",
      "111633 -0.811393 -0.089212 -0.162427  ...   \n",
      "\n",
      "        Unauthorized transactions or other transaction problem  \\\n",
      "0                                                       0        \n",
      "1                                                       0        \n",
      "2                                                       0        \n",
      "3                                                       0        \n",
      "4                                                       0        \n",
      "...                                                   ...        \n",
      "111629                                                  0        \n",
      "111630                                                  0        \n",
      "111631                                                  0        \n",
      "111632                                                  0        \n",
      "111633                                                  0        \n",
      "\n",
      "        Unexpected or other fees  Unsolicited issuance of credit card  \\\n",
      "0                              0                                    0   \n",
      "1                              0                                    0   \n",
      "2                              0                                    0   \n",
      "3                              0                                    0   \n",
      "4                              0                                    0   \n",
      "...                          ...                                  ...   \n",
      "111629                         0                                    0   \n",
      "111630                         0                                    0   \n",
      "111631                         0                                    0   \n",
      "111632                         0                                    0   \n",
      "111633                         0                                    0   \n",
      "\n",
      "        Using a debit or ATM card  \\\n",
      "0                               0   \n",
      "1                               0   \n",
      "2                               0   \n",
      "3                               0   \n",
      "4                               0   \n",
      "...                           ...   \n",
      "111629                          0   \n",
      "111630                          0   \n",
      "111631                          0   \n",
      "111632                          0   \n",
      "111633                          0   \n",
      "\n",
      "        Vehicle was damaged or destroyed the vehicle  \\\n",
      "0                                                  0   \n",
      "1                                                  0   \n",
      "2                                                  0   \n",
      "3                                                  0   \n",
      "4                                                  0   \n",
      "...                                              ...   \n",
      "111629                                             0   \n",
      "111630                                             0   \n",
      "111631                                             0   \n",
      "111632                                             0   \n",
      "111633                                             0   \n",
      "\n",
      "        Vehicle was repossessed or sold the vehicle  \\\n",
      "0                                                 0   \n",
      "1                                                 0   \n",
      "2                                                 0   \n",
      "3                                                 0   \n",
      "4                                                 0   \n",
      "...                                             ...   \n",
      "111629                                            0   \n",
      "111630                                            0   \n",
      "111631                                            0   \n",
      "111632                                            0   \n",
      "111633                                            0   \n",
      "\n",
      "        Was approved for a loan, but didn't receive money  \\\n",
      "0                                                       0   \n",
      "1                                                       0   \n",
      "2                                                       0   \n",
      "3                                                       0   \n",
      "4                                                       0   \n",
      "...                                                   ...   \n",
      "111629                                                  0   \n",
      "111630                                                  0   \n",
      "111631                                                  0   \n",
      "111632                                                  0   \n",
      "111633                                                  0   \n",
      "\n",
      "        Was approved for a loan, but didn't receive the money  \\\n",
      "0                                                       0       \n",
      "1                                                       0       \n",
      "2                                                       0       \n",
      "3                                                       0       \n",
      "4                                                       0       \n",
      "...                                                   ...       \n",
      "111629                                                  0       \n",
      "111630                                                  0       \n",
      "111631                                                  0       \n",
      "111632                                                  0       \n",
      "111633                                                  0       \n",
      "\n",
      "        Written notification about debt  Wrong amount charged or received  \n",
      "0                                     0                                 0  \n",
      "1                                     0                                 0  \n",
      "2                                     0                                 0  \n",
      "3                                     0                                 0  \n",
      "4                                     0                                 0  \n",
      "...                                 ...                               ...  \n",
      "111629                                0                                 0  \n",
      "111630                                0                                 0  \n",
      "111631                                0                                 0  \n",
      "111632                                0                                 0  \n",
      "111633                                0                                 0  \n",
      "\n",
      "[111634 rows x 276 columns]\n"
     ]
    }
   ],
   "source": [
    "#print(df)\n",
    "one_hot = pd.Categorical(df['Product'])\n",
    "df_dummies = pd.get_dummies(one_hot)\n",
    "\n",
    "one_hot2 = pd.Categorical(df['Sub-product'])\n",
    "df_dummies2 = pd.get_dummies(one_hot2)\n",
    "\n",
    "one_hot3 = pd.Categorical(df['Issue'])\n",
    "df_dummies3 = pd.get_dummies(one_hot3)\n",
    "\n",
    "v_df = pd.DataFrame(vectors)\n",
    "X = pd.concat([v_df, df_dummies, df_dummies2, df_dummies3], axis = 1)\n",
    "print(X)"
   ]
  },
  {
   "cell_type": "markdown",
   "metadata": {},
   "source": [
    "## Applying DBSCAN"
   ]
  },
  {
   "cell_type": "code",
   "execution_count": 3,
   "metadata": {},
   "outputs": [],
   "source": [
    "#sklearn.cluster.DBSCAN(eps=0.5, min_samples=5, metric='euclidean', metric_params=None, algorithm='auto', leaf_size=30, p=None, n_jobs=None)\n",
    "#eps: float, default=0.5 The maximum distance between two samples for one to be considered as in the neighborhood of the other.\n",
    "\n",
    "db = DBSCAN(eps=1, min_samples=10).fit(X)\n",
    "core_samples_mask = np.zeros_like(db.labels_, dtype=bool)\n",
    "core_samples_mask[db.core_sample_indices_] = True\n",
    "labels = db.labels_"
   ]
  },
  {
   "cell_type": "code",
   "execution_count": 4,
   "metadata": {},
   "outputs": [],
   "source": [
    "# Number of clusters in labels, ignoring noise if present.\n",
    "n_clusters_ = len(set(labels)) - (1 if -1 in labels else 0)\n",
    "n_noise_ = list(labels).count(-1)"
   ]
  },
  {
   "cell_type": "code",
   "execution_count": 5,
   "metadata": {},
   "outputs": [
    {
     "name": "stdout",
     "output_type": "stream",
     "text": [
      "Estimated number of clusters: 28\n",
      "Estimated number of noise points: 110741\n"
     ]
    }
   ],
   "source": [
    "print('Estimated number of clusters: %d' % n_clusters_)\n",
    "print('Estimated number of noise points: %d' % n_noise_)"
   ]
  },
  {
   "cell_type": "markdown",
   "metadata": {},
   "source": [
    "## Visualisation"
   ]
  },
  {
   "cell_type": "code",
   "execution_count": 6,
   "metadata": {},
   "outputs": [
    {
     "ename": "TypeError",
     "evalue": "'(slice(None, None, None), 0)' is an invalid key",
     "output_type": "error",
     "traceback": [
      "\u001b[1;31m---------------------------------------------------------------------------\u001b[0m",
      "\u001b[1;31mTypeError\u001b[0m                                 Traceback (most recent call last)",
      "\u001b[1;32m<ipython-input-6-d0c6f55f64b6>\u001b[0m in \u001b[0;36m<module>\u001b[1;34m\u001b[0m\n\u001b[0;32m     11\u001b[0m \u001b[1;33m\u001b[0m\u001b[0m\n\u001b[0;32m     12\u001b[0m     \u001b[0mxy\u001b[0m \u001b[1;33m=\u001b[0m \u001b[0mX\u001b[0m\u001b[1;33m[\u001b[0m\u001b[0mclass_member_mask\u001b[0m \u001b[1;33m&\u001b[0m \u001b[0mcore_samples_mask\u001b[0m\u001b[1;33m]\u001b[0m\u001b[1;33m\u001b[0m\u001b[1;33m\u001b[0m\u001b[0m\n\u001b[1;32m---> 13\u001b[1;33m     plt.plot(xy[:, 0], xy[:, 1], 'o', markerfacecolor=tuple(col),\n\u001b[0m\u001b[0;32m     14\u001b[0m              markeredgecolor='k', markersize=14)\n\u001b[0;32m     15\u001b[0m \u001b[1;33m\u001b[0m\u001b[0m\n",
      "\u001b[1;32m~\\anaconda3\\lib\\site-packages\\pandas\\core\\frame.py\u001b[0m in \u001b[0;36m__getitem__\u001b[1;34m(self, key)\u001b[0m\n\u001b[0;32m   2798\u001b[0m             \u001b[1;32mif\u001b[0m \u001b[0mself\u001b[0m\u001b[1;33m.\u001b[0m\u001b[0mcolumns\u001b[0m\u001b[1;33m.\u001b[0m\u001b[0mnlevels\u001b[0m \u001b[1;33m>\u001b[0m \u001b[1;36m1\u001b[0m\u001b[1;33m:\u001b[0m\u001b[1;33m\u001b[0m\u001b[1;33m\u001b[0m\u001b[0m\n\u001b[0;32m   2799\u001b[0m                 \u001b[1;32mreturn\u001b[0m \u001b[0mself\u001b[0m\u001b[1;33m.\u001b[0m\u001b[0m_getitem_multilevel\u001b[0m\u001b[1;33m(\u001b[0m\u001b[0mkey\u001b[0m\u001b[1;33m)\u001b[0m\u001b[1;33m\u001b[0m\u001b[1;33m\u001b[0m\u001b[0m\n\u001b[1;32m-> 2800\u001b[1;33m             \u001b[0mindexer\u001b[0m \u001b[1;33m=\u001b[0m \u001b[0mself\u001b[0m\u001b[1;33m.\u001b[0m\u001b[0mcolumns\u001b[0m\u001b[1;33m.\u001b[0m\u001b[0mget_loc\u001b[0m\u001b[1;33m(\u001b[0m\u001b[0mkey\u001b[0m\u001b[1;33m)\u001b[0m\u001b[1;33m\u001b[0m\u001b[1;33m\u001b[0m\u001b[0m\n\u001b[0m\u001b[0;32m   2801\u001b[0m             \u001b[1;32mif\u001b[0m \u001b[0mis_integer\u001b[0m\u001b[1;33m(\u001b[0m\u001b[0mindexer\u001b[0m\u001b[1;33m)\u001b[0m\u001b[1;33m:\u001b[0m\u001b[1;33m\u001b[0m\u001b[1;33m\u001b[0m\u001b[0m\n\u001b[0;32m   2802\u001b[0m                 \u001b[0mindexer\u001b[0m \u001b[1;33m=\u001b[0m \u001b[1;33m[\u001b[0m\u001b[0mindexer\u001b[0m\u001b[1;33m]\u001b[0m\u001b[1;33m\u001b[0m\u001b[1;33m\u001b[0m\u001b[0m\n",
      "\u001b[1;32m~\\anaconda3\\lib\\site-packages\\pandas\\core\\indexes\\base.py\u001b[0m in \u001b[0;36mget_loc\u001b[1;34m(self, key, method, tolerance)\u001b[0m\n\u001b[0;32m   2644\u001b[0m                 )\n\u001b[0;32m   2645\u001b[0m             \u001b[1;32mtry\u001b[0m\u001b[1;33m:\u001b[0m\u001b[1;33m\u001b[0m\u001b[1;33m\u001b[0m\u001b[0m\n\u001b[1;32m-> 2646\u001b[1;33m                 \u001b[1;32mreturn\u001b[0m \u001b[0mself\u001b[0m\u001b[1;33m.\u001b[0m\u001b[0m_engine\u001b[0m\u001b[1;33m.\u001b[0m\u001b[0mget_loc\u001b[0m\u001b[1;33m(\u001b[0m\u001b[0mkey\u001b[0m\u001b[1;33m)\u001b[0m\u001b[1;33m\u001b[0m\u001b[1;33m\u001b[0m\u001b[0m\n\u001b[0m\u001b[0;32m   2647\u001b[0m             \u001b[1;32mexcept\u001b[0m \u001b[0mKeyError\u001b[0m\u001b[1;33m:\u001b[0m\u001b[1;33m\u001b[0m\u001b[1;33m\u001b[0m\u001b[0m\n\u001b[0;32m   2648\u001b[0m                 \u001b[1;32mreturn\u001b[0m \u001b[0mself\u001b[0m\u001b[1;33m.\u001b[0m\u001b[0m_engine\u001b[0m\u001b[1;33m.\u001b[0m\u001b[0mget_loc\u001b[0m\u001b[1;33m(\u001b[0m\u001b[0mself\u001b[0m\u001b[1;33m.\u001b[0m\u001b[0m_maybe_cast_indexer\u001b[0m\u001b[1;33m(\u001b[0m\u001b[0mkey\u001b[0m\u001b[1;33m)\u001b[0m\u001b[1;33m)\u001b[0m\u001b[1;33m\u001b[0m\u001b[1;33m\u001b[0m\u001b[0m\n",
      "\u001b[1;32mpandas\\_libs\\index.pyx\u001b[0m in \u001b[0;36mpandas._libs.index.IndexEngine.get_loc\u001b[1;34m()\u001b[0m\n",
      "\u001b[1;32mpandas\\_libs\\index.pyx\u001b[0m in \u001b[0;36mpandas._libs.index.IndexEngine.get_loc\u001b[1;34m()\u001b[0m\n",
      "\u001b[1;31mTypeError\u001b[0m: '(slice(None, None, None), 0)' is an invalid key"
     ]
    }
   ],
   "source": [
    "# Black removed and is used for noise instead.\n",
    "unique_labels = set(labels)\n",
    "colors = [plt.cm.Spectral(each)\n",
    "          for each in np.linspace(0, 1, len(unique_labels))]\n",
    "for k, col in zip(unique_labels, colors):\n",
    "    if k == -1:\n",
    "        # Black used for noise.\n",
    "        col = [0, 0, 0, 1]\n",
    "\n",
    "    class_member_mask = (labels == k)\n",
    "\n",
    "    xy = X[class_member_mask & core_samples_mask]\n",
    "    plt.plot(xy[:, 0], xy[:, 1], 'o', markerfacecolor=tuple(col),\n",
    "             markeredgecolor='k', markersize=14)\n",
    "\n",
    "    xy = X[class_member_mask & ~core_samples_mask]\n",
    "    plt.plot(xy[:, 0], xy[:, 1], 'o', markerfacecolor=tuple(col),\n",
    "             markeredgecolor='k', markersize=6)\n",
    "\n",
    "plt.title('Estimated number of clusters: %d' % n_clusters_)\n",
    "plt.show()"
   ]
  }
 ],
 "metadata": {
  "kernelspec": {
   "display_name": "Python 3",
   "language": "python",
   "name": "python3"
  },
  "language_info": {
   "codemirror_mode": {
    "name": "ipython",
    "version": 3
   },
   "file_extension": ".py",
   "mimetype": "text/x-python",
   "name": "python",
   "nbconvert_exporter": "python",
   "pygments_lexer": "ipython3",
   "version": "3.7.6"
  },
  "toc": {
   "base_numbering": 1,
   "nav_menu": {},
   "number_sections": true,
   "sideBar": true,
   "skip_h1_title": false,
   "title_cell": "Table of Contents",
   "title_sidebar": "Contents",
   "toc_cell": false,
   "toc_position": {},
   "toc_section_display": true,
   "toc_window_display": false
  }
 },
 "nbformat": 4,
 "nbformat_minor": 2
}
